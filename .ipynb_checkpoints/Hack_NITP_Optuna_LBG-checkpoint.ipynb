{
  "nbformat": 4,
  "nbformat_minor": 0,
  "metadata": {
    "colab": {
      "name": "NITP_Optuna_LBG.ipynb",
      "provenance": []
    },
    "kernelspec": {
      "name": "python3",
      "display_name": "Python 3"
    },
    "accelerator": "GPU"
  },
  "cells": [
    {
      "cell_type": "code",
      "metadata": {
        "id": "knUVVorChuDx"
      },
      "source": [
        "import pandas as pd\n",
        "import numpy as np\n",
        "from sklearn.model_selection import train_test_split\n",
        "from sklearn.metrics import accuracy_score"
      ],
      "execution_count": null,
      "outputs": []
    },
    {
      "cell_type": "code",
      "metadata": {
        "id": "QIeQGecdh3eg"
      },
      "source": [
        "train = pd.read_csv('new_train.csv')\n",
        "train.head()\n",
        "test = pd.read_csv('new_test.csv')"
      ],
      "execution_count": null,
      "outputs": []
    },
    {
      "cell_type": "code",
      "metadata": {
        "colab": {
          "base_uri": "https://localhost:8080/",
          "height": 244
        },
        "id": "tGnWj8WxiBCG",
        "outputId": "e406d060-1e1e-4710-b8d6-e090db914f42"
      },
      "source": [
        "map = {'Neutral':0,'Negative':1,'Positive':2}\n",
        "train['label'] = train['label'].apply(lambda x:map[x])\n",
        "train.head()"
      ],
      "execution_count": null,
      "outputs": [
        {
          "output_type": "execute_result",
          "data": {
            "text/html": [
              "<div>\n",
              "<style scoped>\n",
              "    .dataframe tbody tr th:only-of-type {\n",
              "        vertical-align: middle;\n",
              "    }\n",
              "\n",
              "    .dataframe tbody tr th {\n",
              "        vertical-align: top;\n",
              "    }\n",
              "\n",
              "    .dataframe thead th {\n",
              "        text-align: right;\n",
              "    }\n",
              "</style>\n",
              "<table border=\"1\" class=\"dataframe\">\n",
              "  <thead>\n",
              "    <tr style=\"text-align: right;\">\n",
              "      <th></th>\n",
              "      <th>0</th>\n",
              "      <th>1</th>\n",
              "      <th>2</th>\n",
              "      <th>3</th>\n",
              "      <th>4</th>\n",
              "      <th>5</th>\n",
              "      <th>6</th>\n",
              "      <th>7</th>\n",
              "      <th>8</th>\n",
              "      <th>9</th>\n",
              "      <th>10</th>\n",
              "      <th>11</th>\n",
              "      <th>12</th>\n",
              "      <th>13</th>\n",
              "      <th>14</th>\n",
              "      <th>15</th>\n",
              "      <th>16</th>\n",
              "      <th>17</th>\n",
              "      <th>18</th>\n",
              "      <th>19</th>\n",
              "      <th>20</th>\n",
              "      <th>21</th>\n",
              "      <th>22</th>\n",
              "      <th>23</th>\n",
              "      <th>24</th>\n",
              "      <th>25</th>\n",
              "      <th>26</th>\n",
              "      <th>27</th>\n",
              "      <th>28</th>\n",
              "      <th>29</th>\n",
              "      <th>30</th>\n",
              "      <th>31</th>\n",
              "      <th>32</th>\n",
              "      <th>33</th>\n",
              "      <th>34</th>\n",
              "      <th>35</th>\n",
              "      <th>36</th>\n",
              "      <th>37</th>\n",
              "      <th>38</th>\n",
              "      <th>39</th>\n",
              "      <th>...</th>\n",
              "      <th>114</th>\n",
              "      <th>fname</th>\n",
              "      <th>label</th>\n",
              "      <th>len</th>\n",
              "      <th>mean_1_1</th>\n",
              "      <th>std_1_1</th>\n",
              "      <th>min_1_1</th>\n",
              "      <th>max_1_1</th>\n",
              "      <th>abs_mean_1_1</th>\n",
              "      <th>abs_std_1_1</th>\n",
              "      <th>abs_min_1_1</th>\n",
              "      <th>abs_max_1_1</th>\n",
              "      <th>diff_mean_1_1</th>\n",
              "      <th>diff_std_1_1</th>\n",
              "      <th>diff_min_1_1</th>\n",
              "      <th>diff_max_1_1</th>\n",
              "      <th>mean_1_2</th>\n",
              "      <th>std_1_2</th>\n",
              "      <th>min_1_2</th>\n",
              "      <th>max_1_2</th>\n",
              "      <th>abs_mean_1_2</th>\n",
              "      <th>abs_std_1_2</th>\n",
              "      <th>abs_min_1_2</th>\n",
              "      <th>abs_max_1_2</th>\n",
              "      <th>diff_mean_1_2</th>\n",
              "      <th>diff_std_1_2</th>\n",
              "      <th>diff_min_1_2</th>\n",
              "      <th>diff_max_1_2</th>\n",
              "      <th>mean_1_3</th>\n",
              "      <th>std_1_3</th>\n",
              "      <th>min_1_3</th>\n",
              "      <th>max_1_3</th>\n",
              "      <th>abs_mean_1_3</th>\n",
              "      <th>abs_std_1_3</th>\n",
              "      <th>abs_min_1_3</th>\n",
              "      <th>abs_max_1_3</th>\n",
              "      <th>diff_mean_1_3</th>\n",
              "      <th>diff_std_1_3</th>\n",
              "      <th>diff_min_1_3</th>\n",
              "      <th>diff_max_1_3</th>\n",
              "    </tr>\n",
              "  </thead>\n",
              "  <tbody>\n",
              "    <tr>\n",
              "      <th>0</th>\n",
              "      <td>-591.031682</td>\n",
              "      <td>107.357705</td>\n",
              "      <td>18.891522</td>\n",
              "      <td>25.387899</td>\n",
              "      <td>15.477197</td>\n",
              "      <td>-0.666428</td>\n",
              "      <td>-11.393417</td>\n",
              "      <td>2.117549</td>\n",
              "      <td>2.066153</td>\n",
              "      <td>1.084113</td>\n",
              "      <td>-1.802101</td>\n",
              "      <td>-0.502671</td>\n",
              "      <td>-1.535924</td>\n",
              "      <td>-2.903620</td>\n",
              "      <td>-1.109281</td>\n",
              "      <td>-3.872477</td>\n",
              "      <td>-3.135773</td>\n",
              "      <td>-2.884538</td>\n",
              "      <td>-3.447222</td>\n",
              "      <td>-4.148853</td>\n",
              "      <td>114.747323</td>\n",
              "      <td>81.358803</td>\n",
              "      <td>22.898075</td>\n",
              "      <td>21.452958</td>\n",
              "      <td>25.076083</td>\n",
              "      <td>16.813999</td>\n",
              "      <td>17.834653</td>\n",
              "      <td>13.000395</td>\n",
              "      <td>8.901351</td>\n",
              "      <td>8.299461</td>\n",
              "      <td>8.969343</td>\n",
              "      <td>9.471980</td>\n",
              "      <td>8.134469</td>\n",
              "      <td>6.744038</td>\n",
              "      <td>6.492289</td>\n",
              "      <td>8.711509</td>\n",
              "      <td>7.025930</td>\n",
              "      <td>5.137653</td>\n",
              "      <td>6.364879</td>\n",
              "      <td>6.571455</td>\n",
              "      <td>...</td>\n",
              "      <td>0.0</td>\n",
              "      <td>346.wav</td>\n",
              "      <td>1</td>\n",
              "      <td>99072.0</td>\n",
              "      <td>0.104914</td>\n",
              "      <td>700.909507</td>\n",
              "      <td>-3863.0</td>\n",
              "      <td>3822.0</td>\n",
              "      <td>348.638707</td>\n",
              "      <td>608.050327</td>\n",
              "      <td>0.0</td>\n",
              "      <td>3863.0</td>\n",
              "      <td>0.0</td>\n",
              "      <td>0.0</td>\n",
              "      <td>0.0</td>\n",
              "      <td>0.0</td>\n",
              "      <td>0.750424</td>\n",
              "      <td>523.049834</td>\n",
              "      <td>-2967.0</td>\n",
              "      <td>2294.0</td>\n",
              "      <td>290.560744</td>\n",
              "      <td>434.920850</td>\n",
              "      <td>0.0</td>\n",
              "      <td>2967.0</td>\n",
              "      <td>0.0</td>\n",
              "      <td>0.0</td>\n",
              "      <td>0.0</td>\n",
              "      <td>0.0</td>\n",
              "      <td>0.532219</td>\n",
              "      <td>483.010517</td>\n",
              "      <td>-2967.0</td>\n",
              "      <td>2294.0</td>\n",
              "      <td>237.519985</td>\n",
              "      <td>420.575438</td>\n",
              "      <td>0.0</td>\n",
              "      <td>2967.0</td>\n",
              "      <td>0.0</td>\n",
              "      <td>0.0</td>\n",
              "      <td>0.0</td>\n",
              "      <td>0.0</td>\n",
              "    </tr>\n",
              "    <tr>\n",
              "      <th>1</th>\n",
              "      <td>-360.014782</td>\n",
              "      <td>154.619607</td>\n",
              "      <td>-7.848003</td>\n",
              "      <td>4.830051</td>\n",
              "      <td>34.022187</td>\n",
              "      <td>11.741361</td>\n",
              "      <td>-12.634243</td>\n",
              "      <td>-14.327259</td>\n",
              "      <td>0.076565</td>\n",
              "      <td>7.371945</td>\n",
              "      <td>-7.121121</td>\n",
              "      <td>-16.676015</td>\n",
              "      <td>0.160181</td>\n",
              "      <td>5.824123</td>\n",
              "      <td>-8.658678</td>\n",
              "      <td>-11.311229</td>\n",
              "      <td>-1.396284</td>\n",
              "      <td>3.411900</td>\n",
              "      <td>-5.416746</td>\n",
              "      <td>-6.371157</td>\n",
              "      <td>116.788382</td>\n",
              "      <td>79.689070</td>\n",
              "      <td>34.310244</td>\n",
              "      <td>21.750968</td>\n",
              "      <td>22.658344</td>\n",
              "      <td>16.706306</td>\n",
              "      <td>12.549705</td>\n",
              "      <td>12.997490</td>\n",
              "      <td>11.681934</td>\n",
              "      <td>8.341038</td>\n",
              "      <td>10.646312</td>\n",
              "      <td>13.060791</td>\n",
              "      <td>9.547757</td>\n",
              "      <td>8.554503</td>\n",
              "      <td>8.564101</td>\n",
              "      <td>9.607275</td>\n",
              "      <td>7.191809</td>\n",
              "      <td>8.220305</td>\n",
              "      <td>7.871040</td>\n",
              "      <td>9.133367</td>\n",
              "      <td>...</td>\n",
              "      <td>0.0</td>\n",
              "      <td>163.wav</td>\n",
              "      <td>0</td>\n",
              "      <td>114048.0</td>\n",
              "      <td>-0.300286</td>\n",
              "      <td>3872.495473</td>\n",
              "      <td>-31064.0</td>\n",
              "      <td>28249.0</td>\n",
              "      <td>2116.474353</td>\n",
              "      <td>3242.955070</td>\n",
              "      <td>0.0</td>\n",
              "      <td>31064.0</td>\n",
              "      <td>0.0</td>\n",
              "      <td>0.0</td>\n",
              "      <td>0.0</td>\n",
              "      <td>0.0</td>\n",
              "      <td>-1.643764</td>\n",
              "      <td>3074.024163</td>\n",
              "      <td>-16980.0</td>\n",
              "      <td>10070.0</td>\n",
              "      <td>1977.514766</td>\n",
              "      <td>2353.521321</td>\n",
              "      <td>0.0</td>\n",
              "      <td>16980.0</td>\n",
              "      <td>0.0</td>\n",
              "      <td>0.0</td>\n",
              "      <td>0.0</td>\n",
              "      <td>0.0</td>\n",
              "      <td>-0.505051</td>\n",
              "      <td>2474.739419</td>\n",
              "      <td>-15796.0</td>\n",
              "      <td>9437.0</td>\n",
              "      <td>1553.343277</td>\n",
              "      <td>1926.515017</td>\n",
              "      <td>0.0</td>\n",
              "      <td>15796.0</td>\n",
              "      <td>0.0</td>\n",
              "      <td>0.0</td>\n",
              "      <td>0.0</td>\n",
              "      <td>0.0</td>\n",
              "    </tr>\n",
              "    <tr>\n",
              "      <th>2</th>\n",
              "      <td>-594.040743</td>\n",
              "      <td>103.790633</td>\n",
              "      <td>13.922286</td>\n",
              "      <td>30.873570</td>\n",
              "      <td>9.980270</td>\n",
              "      <td>-4.311017</td>\n",
              "      <td>-6.491590</td>\n",
              "      <td>5.946820</td>\n",
              "      <td>0.383232</td>\n",
              "      <td>-0.399051</td>\n",
              "      <td>-3.736077</td>\n",
              "      <td>2.666826</td>\n",
              "      <td>2.417960</td>\n",
              "      <td>-4.896455</td>\n",
              "      <td>-4.457233</td>\n",
              "      <td>-7.752620</td>\n",
              "      <td>-4.260378</td>\n",
              "      <td>-2.706262</td>\n",
              "      <td>-5.689548</td>\n",
              "      <td>-5.966477</td>\n",
              "      <td>131.838122</td>\n",
              "      <td>87.268409</td>\n",
              "      <td>32.530141</td>\n",
              "      <td>21.356198</td>\n",
              "      <td>18.830361</td>\n",
              "      <td>18.815664</td>\n",
              "      <td>11.319590</td>\n",
              "      <td>9.396798</td>\n",
              "      <td>6.753247</td>\n",
              "      <td>14.504216</td>\n",
              "      <td>7.928673</td>\n",
              "      <td>7.569636</td>\n",
              "      <td>6.002007</td>\n",
              "      <td>9.334162</td>\n",
              "      <td>10.912878</td>\n",
              "      <td>10.096592</td>\n",
              "      <td>6.524360</td>\n",
              "      <td>5.821844</td>\n",
              "      <td>6.728617</td>\n",
              "      <td>8.242629</td>\n",
              "      <td>...</td>\n",
              "      <td>0.0</td>\n",
              "      <td>288.wav</td>\n",
              "      <td>1</td>\n",
              "      <td>74880.0</td>\n",
              "      <td>0.261632</td>\n",
              "      <td>736.231596</td>\n",
              "      <td>-4227.0</td>\n",
              "      <td>3330.0</td>\n",
              "      <td>375.935457</td>\n",
              "      <td>633.016242</td>\n",
              "      <td>0.0</td>\n",
              "      <td>4227.0</td>\n",
              "      <td>0.0</td>\n",
              "      <td>0.0</td>\n",
              "      <td>0.0</td>\n",
              "      <td>0.0</td>\n",
              "      <td>-1.379033</td>\n",
              "      <td>721.293474</td>\n",
              "      <td>-3259.0</td>\n",
              "      <td>3330.0</td>\n",
              "      <td>393.482505</td>\n",
              "      <td>604.514429</td>\n",
              "      <td>0.0</td>\n",
              "      <td>3330.0</td>\n",
              "      <td>0.0</td>\n",
              "      <td>0.0</td>\n",
              "      <td>0.0</td>\n",
              "      <td>0.0</td>\n",
              "      <td>0.979447</td>\n",
              "      <td>323.873973</td>\n",
              "      <td>-2391.0</td>\n",
              "      <td>1519.0</td>\n",
              "      <td>134.837460</td>\n",
              "      <td>294.472696</td>\n",
              "      <td>0.0</td>\n",
              "      <td>2391.0</td>\n",
              "      <td>0.0</td>\n",
              "      <td>0.0</td>\n",
              "      <td>0.0</td>\n",
              "      <td>0.0</td>\n",
              "    </tr>\n",
              "    <tr>\n",
              "      <th>3</th>\n",
              "      <td>-565.080365</td>\n",
              "      <td>125.795892</td>\n",
              "      <td>6.180520</td>\n",
              "      <td>25.099404</td>\n",
              "      <td>15.052440</td>\n",
              "      <td>1.483659</td>\n",
              "      <td>-7.802284</td>\n",
              "      <td>0.972381</td>\n",
              "      <td>-2.742347</td>\n",
              "      <td>1.164681</td>\n",
              "      <td>-2.925657</td>\n",
              "      <td>3.055605</td>\n",
              "      <td>1.839463</td>\n",
              "      <td>-6.639771</td>\n",
              "      <td>-6.208944</td>\n",
              "      <td>-7.664477</td>\n",
              "      <td>-4.032501</td>\n",
              "      <td>-2.960873</td>\n",
              "      <td>-4.360971</td>\n",
              "      <td>-5.504611</td>\n",
              "      <td>123.413103</td>\n",
              "      <td>81.588843</td>\n",
              "      <td>32.923758</td>\n",
              "      <td>21.679085</td>\n",
              "      <td>17.567169</td>\n",
              "      <td>14.698030</td>\n",
              "      <td>13.847179</td>\n",
              "      <td>7.279012</td>\n",
              "      <td>7.115872</td>\n",
              "      <td>9.067360</td>\n",
              "      <td>8.662264</td>\n",
              "      <td>7.801159</td>\n",
              "      <td>8.118018</td>\n",
              "      <td>7.631249</td>\n",
              "      <td>7.495879</td>\n",
              "      <td>8.143258</td>\n",
              "      <td>7.420902</td>\n",
              "      <td>5.241293</td>\n",
              "      <td>6.612754</td>\n",
              "      <td>7.062080</td>\n",
              "      <td>...</td>\n",
              "      <td>0.0</td>\n",
              "      <td>279.wav</td>\n",
              "      <td>1</td>\n",
              "      <td>104832.0</td>\n",
              "      <td>0.309505</td>\n",
              "      <td>620.150143</td>\n",
              "      <td>-3417.0</td>\n",
              "      <td>3573.0</td>\n",
              "      <td>329.448985</td>\n",
              "      <td>525.404284</td>\n",
              "      <td>0.0</td>\n",
              "      <td>3573.0</td>\n",
              "      <td>0.0</td>\n",
              "      <td>0.0</td>\n",
              "      <td>0.0</td>\n",
              "      <td>0.0</td>\n",
              "      <td>-1.225847</td>\n",
              "      <td>653.198277</td>\n",
              "      <td>-2889.0</td>\n",
              "      <td>2922.0</td>\n",
              "      <td>363.120078</td>\n",
              "      <td>542.967126</td>\n",
              "      <td>0.0</td>\n",
              "      <td>2922.0</td>\n",
              "      <td>0.0</td>\n",
              "      <td>0.0</td>\n",
              "      <td>0.0</td>\n",
              "      <td>0.0</td>\n",
              "      <td>-0.004865</td>\n",
              "      <td>551.390620</td>\n",
              "      <td>-2789.0</td>\n",
              "      <td>2592.0</td>\n",
              "      <td>302.603308</td>\n",
              "      <td>460.936931</td>\n",
              "      <td>0.0</td>\n",
              "      <td>2789.0</td>\n",
              "      <td>0.0</td>\n",
              "      <td>0.0</td>\n",
              "      <td>0.0</td>\n",
              "      <td>0.0</td>\n",
              "    </tr>\n",
              "    <tr>\n",
              "      <th>4</th>\n",
              "      <td>-572.168372</td>\n",
              "      <td>127.598331</td>\n",
              "      <td>23.113026</td>\n",
              "      <td>31.622201</td>\n",
              "      <td>4.401347</td>\n",
              "      <td>-7.654443</td>\n",
              "      <td>-8.338925</td>\n",
              "      <td>8.768979</td>\n",
              "      <td>2.916846</td>\n",
              "      <td>1.646538</td>\n",
              "      <td>-4.135653</td>\n",
              "      <td>1.688965</td>\n",
              "      <td>2.759710</td>\n",
              "      <td>-4.706310</td>\n",
              "      <td>-6.717592</td>\n",
              "      <td>-8.303737</td>\n",
              "      <td>-4.042487</td>\n",
              "      <td>-4.562963</td>\n",
              "      <td>-6.388863</td>\n",
              "      <td>-8.681849</td>\n",
              "      <td>122.561119</td>\n",
              "      <td>84.240538</td>\n",
              "      <td>25.244293</td>\n",
              "      <td>23.930681</td>\n",
              "      <td>18.478424</td>\n",
              "      <td>20.105318</td>\n",
              "      <td>14.046924</td>\n",
              "      <td>10.170725</td>\n",
              "      <td>10.608277</td>\n",
              "      <td>7.091116</td>\n",
              "      <td>9.051654</td>\n",
              "      <td>8.001456</td>\n",
              "      <td>7.521787</td>\n",
              "      <td>8.094509</td>\n",
              "      <td>8.837414</td>\n",
              "      <td>8.540785</td>\n",
              "      <td>7.761704</td>\n",
              "      <td>6.376638</td>\n",
              "      <td>7.824119</td>\n",
              "      <td>7.157348</td>\n",
              "      <td>...</td>\n",
              "      <td>0.0</td>\n",
              "      <td>244.wav</td>\n",
              "      <td>1</td>\n",
              "      <td>102528.0</td>\n",
              "      <td>0.285278</td>\n",
              "      <td>756.789765</td>\n",
              "      <td>-3357.0</td>\n",
              "      <td>3404.0</td>\n",
              "      <td>428.831646</td>\n",
              "      <td>623.565754</td>\n",
              "      <td>0.0</td>\n",
              "      <td>3404.0</td>\n",
              "      <td>0.0</td>\n",
              "      <td>0.0</td>\n",
              "      <td>0.0</td>\n",
              "      <td>0.0</td>\n",
              "      <td>0.341916</td>\n",
              "      <td>740.113889</td>\n",
              "      <td>-3357.0</td>\n",
              "      <td>3404.0</td>\n",
              "      <td>436.305321</td>\n",
              "      <td>597.834720</td>\n",
              "      <td>0.0</td>\n",
              "      <td>3404.0</td>\n",
              "      <td>0.0</td>\n",
              "      <td>0.0</td>\n",
              "      <td>0.0</td>\n",
              "      <td>0.0</td>\n",
              "      <td>2.616895</td>\n",
              "      <td>686.565335</td>\n",
              "      <td>-3357.0</td>\n",
              "      <td>3023.0</td>\n",
              "      <td>404.438290</td>\n",
              "      <td>554.804900</td>\n",
              "      <td>0.0</td>\n",
              "      <td>3357.0</td>\n",
              "      <td>0.0</td>\n",
              "      <td>0.0</td>\n",
              "      <td>0.0</td>\n",
              "      <td>0.0</td>\n",
              "    </tr>\n",
              "  </tbody>\n",
              "</table>\n",
              "<p>5 rows × 154 columns</p>\n",
              "</div>"
            ],
            "text/plain": [
              "            0           1          2  ...  diff_std_1_3  diff_min_1_3  diff_max_1_3\n",
              "0 -591.031682  107.357705  18.891522  ...           0.0           0.0           0.0\n",
              "1 -360.014782  154.619607  -7.848003  ...           0.0           0.0           0.0\n",
              "2 -594.040743  103.790633  13.922286  ...           0.0           0.0           0.0\n",
              "3 -565.080365  125.795892   6.180520  ...           0.0           0.0           0.0\n",
              "4 -572.168372  127.598331  23.113026  ...           0.0           0.0           0.0\n",
              "\n",
              "[5 rows x 154 columns]"
            ]
          },
          "metadata": {
            "tags": []
          },
          "execution_count": 6
        }
      ]
    },
    {
      "cell_type": "code",
      "metadata": {
        "colab": {
          "base_uri": "https://localhost:8080/"
        },
        "id": "pHetZsJhay7S",
        "outputId": "9dd2377a-dda3-457b-947f-f0b68f2c8d31"
      },
      "source": [
        "train['fname'] = train['fname'].apply(lambda x:x.split('.')[0])\n",
        "train.fname\n",
        "test['fname'] = test['fname'].apply(lambda x:x.split('.')[0])\n",
        "test.fname"
      ],
      "execution_count": null,
      "outputs": [
        {
          "output_type": "execute_result",
          "data": {
            "text/plain": [
              "0      157\n",
              "1       26\n",
              "2       75\n",
              "3      185\n",
              "4      136\n",
              "      ... \n",
              "105    182\n",
              "106    134\n",
              "107    322\n",
              "108    165\n",
              "109     84\n",
              "Name: fname, Length: 110, dtype: object"
            ]
          },
          "metadata": {
            "tags": []
          },
          "execution_count": 7
        }
      ]
    },
    {
      "cell_type": "code",
      "metadata": {
        "id": "oP_sOIrca-al"
      },
      "source": [
        "train['fname'] = train['fname'].astype('int')\n",
        "test['fname'] = test['fname'].astype('int')"
      ],
      "execution_count": null,
      "outputs": []
    },
    {
      "cell_type": "code",
      "metadata": {
        "id": "pDFeW37AiCCF"
      },
      "source": [
        "X = train.drop(columns=['label'],axis=1)\n",
        "y = train['label']"
      ],
      "execution_count": null,
      "outputs": []
    },
    {
      "cell_type": "code",
      "metadata": {
        "id": "yZxtqTjOiDFP"
      },
      "source": [
        "X_train, X_test, y_train, y_test = train_test_split(X, y, stratify = train.label,test_size=0.1)"
      ],
      "execution_count": null,
      "outputs": []
    },
    {
      "cell_type": "code",
      "metadata": {
        "id": "Z0WlGBfyiD3P"
      },
      "source": [
        "# !pip install optuna\n",
        "import optuna.integration.lightgbm as lgb"
      ],
      "execution_count": null,
      "outputs": []
    },
    {
      "cell_type": "code",
      "metadata": {
        "colab": {
          "base_uri": "https://localhost:8080/"
        },
        "id": "kVkuI5QYiHCx",
        "outputId": "db59ed35-ea6a-47a6-cd9c-3260f8b1790c"
      },
      "source": [
        "dtrain = lgb.Dataset(X_train, label=y_train)\n",
        "dval = lgb.Dataset(X_test, label=y_test)\n",
        "\n",
        "params = {\n",
        "        \"metric\": \"auc\",\n",
        "        \"verbosity\": -1,\n",
        "        \"boosting_type\": \"gbdt\",\n",
        "}\n",
        "\n",
        "model = lgb.train(\n",
        "        params, dtrain, valid_sets=[dtrain, dval], verbose_eval=100, early_stopping_rounds=100\n",
        "    )\n",
        "\n",
        "prediction = np.rint(model.predict(X_test, num_iteration=model.best_iteration))\n",
        "accuracy = accuracy_score(y_test, prediction)\n",
        "\n",
        "best_params = model.params\n",
        "print(\"Best params:\", best_params)\n",
        "print(\"  Accuracy = {}\".format(accuracy))\n",
        "print(\"  Params: \")\n",
        "for key, value in best_params.items():\n",
        "  print(\"    {}: {}\".format(key, value))\n"
      ],
      "execution_count": null,
      "outputs": [
        {
          "output_type": "stream",
          "text": [
            "\u001b[32m[I 2021-01-16 13:40:04,368]\u001b[0m A new study created in memory with name: no-name-4e3e56ca-d2b0-417a-84b5-368647c2c614\u001b[0m\n",
            "\n",
            "  0%|          | 0/7 [00:00<?, ?it/s]\u001b[A\n",
            "feature_fraction, val_score: -inf:   0%|          | 0/7 [00:00<?, ?it/s]\u001b[A\n",
            "feature_fraction, val_score: 1.000000:   0%|          | 0/7 [00:00<?, ?it/s]\u001b[A\n",
            "feature_fraction, val_score: 1.000000:  14%|#4        | 1/7 [00:00<00:00,  7.48it/s]\u001b[A\u001b[32m[I 2021-01-16 13:40:04,518]\u001b[0m Trial 0 finished with value: 1.0 and parameters: {'feature_fraction': 0.4}. Best is trial 0 with value: 1.0.\u001b[0m\n",
            "\n",
            "feature_fraction, val_score: 1.000000:  14%|#4        | 1/7 [00:00<00:00,  7.48it/s]\u001b[A"
          ],
          "name": "stderr"
        },
        {
          "output_type": "stream",
          "text": [
            "Training until validation scores don't improve for 100 rounds.\n",
            "[100]\tvalid_0's auc: 1\tvalid_1's auc: 1\n",
            "Early stopping, best iteration is:\n",
            "[1]\tvalid_0's auc: 1\tvalid_1's auc: 1\n",
            "Training until validation scores don't improve for 100 rounds.\n"
          ],
          "name": "stdout"
        },
        {
          "output_type": "stream",
          "text": [
            "\n",
            "feature_fraction, val_score: 1.000000:  14%|#4        | 1/7 [00:00<00:00,  7.48it/s]\u001b[A\n",
            "feature_fraction, val_score: 1.000000:  29%|##8       | 2/7 [00:00<00:00,  6.65it/s]\u001b[A\u001b[32m[I 2021-01-16 13:40:04,706]\u001b[0m Trial 1 finished with value: 1.0 and parameters: {'feature_fraction': 0.8}. Best is trial 0 with value: 1.0.\u001b[0m\n",
            "\n",
            "feature_fraction, val_score: 1.000000:  29%|##8       | 2/7 [00:00<00:00,  6.65it/s]\u001b[A\n",
            "feature_fraction, val_score: 1.000000:  29%|##8       | 2/7 [00:00<00:00,  6.65it/s]\u001b[A\n",
            "feature_fraction, val_score: 1.000000:  43%|####2     | 3/7 [00:00<00:00,  6.22it/s]\u001b[A"
          ],
          "name": "stderr"
        },
        {
          "output_type": "stream",
          "text": [
            "[100]\tvalid_0's auc: 1\tvalid_1's auc: 1\n",
            "Early stopping, best iteration is:\n",
            "[1]\tvalid_0's auc: 1\tvalid_1's auc: 1\n",
            "Training until validation scores don't improve for 100 rounds.\n",
            "[100]\tvalid_0's auc: 1\tvalid_1's auc: 1\n",
            "Early stopping, best iteration is:\n",
            "[1]\tvalid_0's auc: 1\tvalid_1's auc: 1\n"
          ],
          "name": "stdout"
        },
        {
          "output_type": "stream",
          "text": [
            "\u001b[32m[I 2021-01-16 13:40:04,892]\u001b[0m Trial 2 finished with value: 1.0 and parameters: {'feature_fraction': 0.7}. Best is trial 0 with value: 1.0.\u001b[0m\n",
            "\n",
            "feature_fraction, val_score: 1.000000:  43%|####2     | 3/7 [00:00<00:00,  6.22it/s]\u001b[A\n",
            "feature_fraction, val_score: 1.000000:  43%|####2     | 3/7 [00:00<00:00,  6.22it/s]\u001b[A\n",
            "feature_fraction, val_score: 1.000000:  57%|#####7    | 4/7 [00:00<00:00,  6.39it/s]\u001b[A\u001b[32m[I 2021-01-16 13:40:05,038]\u001b[0m Trial 3 finished with value: 1.0 and parameters: {'feature_fraction': 1.0}. Best is trial 0 with value: 1.0.\u001b[0m\n",
            "\n",
            "feature_fraction, val_score: 1.000000:  57%|#####7    | 4/7 [00:00<00:00,  6.39it/s]\u001b[A"
          ],
          "name": "stderr"
        },
        {
          "output_type": "stream",
          "text": [
            "Training until validation scores don't improve for 100 rounds.\n",
            "[100]\tvalid_0's auc: 1\tvalid_1's auc: 1\n",
            "Early stopping, best iteration is:\n",
            "[1]\tvalid_0's auc: 1\tvalid_1's auc: 1\n",
            "Training until validation scores don't improve for 100 rounds.\n"
          ],
          "name": "stdout"
        },
        {
          "output_type": "stream",
          "text": [
            "\n",
            "feature_fraction, val_score: 1.000000:  57%|#####7    | 4/7 [00:00<00:00,  6.39it/s]\u001b[A\n",
            "feature_fraction, val_score: 1.000000:  71%|#######1  | 5/7 [00:00<00:00,  6.02it/s]\u001b[A\u001b[32m[I 2021-01-16 13:40:05,226]\u001b[0m Trial 4 finished with value: 1.0 and parameters: {'feature_fraction': 0.8999999999999999}. Best is trial 0 with value: 1.0.\u001b[0m\n",
            "\n",
            "feature_fraction, val_score: 1.000000:  71%|#######1  | 5/7 [00:00<00:00,  6.02it/s]\u001b[A\n",
            "feature_fraction, val_score: 1.000000:  71%|#######1  | 5/7 [00:00<00:00,  6.02it/s]\u001b[A\n",
            "feature_fraction, val_score: 1.000000:  86%|########5 | 6/7 [00:00<00:00,  6.14it/s]\u001b[A\u001b[32m[I 2021-01-16 13:40:05,383]\u001b[0m Trial 5 finished with value: 1.0 and parameters: {'feature_fraction': 0.5}. Best is trial 0 with value: 1.0.\u001b[0m\n",
            "\n",
            "feature_fraction, val_score: 1.000000:  86%|########5 | 6/7 [00:01<00:00,  6.14it/s]\u001b[A"
          ],
          "name": "stderr"
        },
        {
          "output_type": "stream",
          "text": [
            "[100]\tvalid_0's auc: 1\tvalid_1's auc: 1\n",
            "Early stopping, best iteration is:\n",
            "[1]\tvalid_0's auc: 1\tvalid_1's auc: 1\n",
            "Training until validation scores don't improve for 100 rounds.\n",
            "[100]\tvalid_0's auc: 1\tvalid_1's auc: 1\n",
            "Early stopping, best iteration is:\n",
            "[1]\tvalid_0's auc: 1\tvalid_1's auc: 1\n"
          ],
          "name": "stdout"
        },
        {
          "output_type": "stream",
          "text": [
            "\n",
            "feature_fraction, val_score: 1.000000:  86%|########5 | 6/7 [00:01<00:00,  6.14it/s]\u001b[A\n",
            "feature_fraction, val_score: 1.000000: 100%|##########| 7/7 [00:01<00:00,  6.18it/s]\u001b[A\u001b[32m[I 2021-01-16 13:40:05,542]\u001b[0m Trial 6 finished with value: 1.0 and parameters: {'feature_fraction': 0.6}. Best is trial 0 with value: 1.0.\u001b[0m\n",
            "feature_fraction, val_score: 1.000000: 100%|##########| 7/7 [00:01<00:00,  5.99it/s]\n",
            "\n",
            "  0%|          | 0/20 [00:00<?, ?it/s]\u001b[A\n",
            "num_leaves, val_score: 1.000000:   0%|          | 0/20 [00:00<?, ?it/s]\u001b[A"
          ],
          "name": "stderr"
        },
        {
          "output_type": "stream",
          "text": [
            "Training until validation scores don't improve for 100 rounds.\n",
            "[100]\tvalid_0's auc: 1\tvalid_1's auc: 1\n",
            "Early stopping, best iteration is:\n",
            "[1]\tvalid_0's auc: 1\tvalid_1's auc: 1\n",
            "Training until validation scores don't improve for 100 rounds.\n"
          ],
          "name": "stdout"
        },
        {
          "output_type": "stream",
          "text": [
            "\n",
            "num_leaves, val_score: 1.000000:   0%|          | 0/20 [00:00<?, ?it/s]\u001b[A\n",
            "num_leaves, val_score: 1.000000:   5%|5         | 1/20 [00:00<00:02,  7.18it/s]\u001b[A\u001b[32m[I 2021-01-16 13:40:05,699]\u001b[0m Trial 7 finished with value: 1.0 and parameters: {'num_leaves': 123}. Best is trial 7 with value: 1.0.\u001b[0m\n",
            "\n",
            "num_leaves, val_score: 1.000000:   5%|5         | 1/20 [00:00<00:02,  7.18it/s]\u001b[A\n",
            "num_leaves, val_score: 1.000000:   5%|5         | 1/20 [00:00<00:02,  7.18it/s]\u001b[A\n",
            "num_leaves, val_score: 1.000000:  10%|#         | 2/20 [00:00<00:02,  7.11it/s]\u001b[A\u001b[32m[I 2021-01-16 13:40:05,845]\u001b[0m Trial 8 finished with value: 1.0 and parameters: {'num_leaves': 64}. Best is trial 7 with value: 1.0.\u001b[0m\n",
            "\n",
            "num_leaves, val_score: 1.000000:  10%|#         | 2/20 [00:00<00:02,  7.11it/s]\u001b[A"
          ],
          "name": "stderr"
        },
        {
          "output_type": "stream",
          "text": [
            "[100]\tvalid_0's auc: 1\tvalid_1's auc: 1\n",
            "Early stopping, best iteration is:\n",
            "[1]\tvalid_0's auc: 1\tvalid_1's auc: 1\n",
            "Training until validation scores don't improve for 100 rounds.\n",
            "[100]\tvalid_0's auc: 1\tvalid_1's auc: 1\n",
            "Early stopping, best iteration is:\n",
            "[1]\tvalid_0's auc: 1\tvalid_1's auc: 1\n"
          ],
          "name": "stdout"
        },
        {
          "output_type": "stream",
          "text": [
            "\n",
            "num_leaves, val_score: 1.000000:  10%|#         | 2/20 [00:00<00:02,  7.11it/s]\u001b[A\n",
            "num_leaves, val_score: 1.000000:  15%|#5        | 3/20 [00:00<00:02,  6.96it/s]\u001b[A\u001b[32m[I 2021-01-16 13:40:05,994]\u001b[0m Trial 9 finished with value: 1.0 and parameters: {'num_leaves': 103}. Best is trial 7 with value: 1.0.\u001b[0m\n",
            "\n",
            "num_leaves, val_score: 1.000000:  15%|#5        | 3/20 [00:00<00:02,  6.96it/s]\u001b[A"
          ],
          "name": "stderr"
        },
        {
          "output_type": "stream",
          "text": [
            "Training until validation scores don't improve for 100 rounds.\n",
            "[100]\tvalid_0's auc: 1\tvalid_1's auc: 1\n",
            "Early stopping, best iteration is:\n",
            "[1]\tvalid_0's auc: 1\tvalid_1's auc: 1\n",
            "Training until validation scores don't improve for 100 rounds.\n"
          ],
          "name": "stdout"
        },
        {
          "output_type": "stream",
          "text": [
            "\n",
            "num_leaves, val_score: 1.000000:  15%|#5        | 3/20 [00:00<00:02,  6.96it/s]\u001b[A\n",
            "num_leaves, val_score: 1.000000:  20%|##        | 4/20 [00:00<00:02,  6.90it/s]\u001b[A\u001b[32m[I 2021-01-16 13:40:06,141]\u001b[0m Trial 10 finished with value: 1.0 and parameters: {'num_leaves': 115}. Best is trial 7 with value: 1.0.\u001b[0m\n",
            "\n",
            "num_leaves, val_score: 1.000000:  20%|##        | 4/20 [00:00<00:02,  6.90it/s]\u001b[A\n",
            "num_leaves, val_score: 1.000000:  20%|##        | 4/20 [00:00<00:02,  6.90it/s]\u001b[A\n",
            "num_leaves, val_score: 1.000000:  25%|##5       | 5/20 [00:00<00:02,  6.67it/s]\u001b[A\u001b[32m[I 2021-01-16 13:40:06,308]\u001b[0m Trial 11 finished with value: 1.0 and parameters: {'num_leaves': 212}. Best is trial 7 with value: 1.0.\u001b[0m\n",
            "\n",
            "num_leaves, val_score: 1.000000:  25%|##5       | 5/20 [00:00<00:02,  6.67it/s]\u001b[A"
          ],
          "name": "stderr"
        },
        {
          "output_type": "stream",
          "text": [
            "[100]\tvalid_0's auc: 1\tvalid_1's auc: 1\n",
            "Early stopping, best iteration is:\n",
            "[1]\tvalid_0's auc: 1\tvalid_1's auc: 1\n",
            "Training until validation scores don't improve for 100 rounds.\n",
            "[100]\tvalid_0's auc: 1\tvalid_1's auc: 1\n",
            "Early stopping, best iteration is:\n",
            "[1]\tvalid_0's auc: 1\tvalid_1's auc: 1\n"
          ],
          "name": "stdout"
        },
        {
          "output_type": "stream",
          "text": [
            "\n",
            "num_leaves, val_score: 1.000000:  25%|##5       | 5/20 [00:00<00:02,  6.67it/s]\u001b[A\n",
            "num_leaves, val_score: 1.000000:  30%|###       | 6/20 [00:00<00:02,  6.66it/s]\u001b[A\u001b[32m[I 2021-01-16 13:40:06,457]\u001b[0m Trial 12 finished with value: 1.0 and parameters: {'num_leaves': 201}. Best is trial 7 with value: 1.0.\u001b[0m\n",
            "\n",
            "num_leaves, val_score: 1.000000:  30%|###       | 6/20 [00:00<00:02,  6.66it/s]\u001b[A"
          ],
          "name": "stderr"
        },
        {
          "output_type": "stream",
          "text": [
            "Training until validation scores don't improve for 100 rounds.\n",
            "[100]\tvalid_0's auc: 1\tvalid_1's auc: 1\n",
            "Early stopping, best iteration is:\n",
            "[1]\tvalid_0's auc: 1\tvalid_1's auc: 1\n",
            "Training until validation scores don't improve for 100 rounds.\n"
          ],
          "name": "stdout"
        },
        {
          "output_type": "stream",
          "text": [
            "\n",
            "num_leaves, val_score: 1.000000:  30%|###       | 6/20 [00:01<00:02,  6.66it/s]\u001b[A\n",
            "num_leaves, val_score: 1.000000:  35%|###5      | 7/20 [00:01<00:01,  6.72it/s]\u001b[A\u001b[32m[I 2021-01-16 13:40:06,601]\u001b[0m Trial 13 finished with value: 1.0 and parameters: {'num_leaves': 179}. Best is trial 7 with value: 1.0.\u001b[0m\n",
            "\n",
            "num_leaves, val_score: 1.000000:  35%|###5      | 7/20 [00:01<00:01,  6.72it/s]\u001b[A\n",
            "num_leaves, val_score: 1.000000:  35%|###5      | 7/20 [00:01<00:01,  6.72it/s]\u001b[A\n",
            "num_leaves, val_score: 1.000000:  40%|####      | 8/20 [00:01<00:01,  6.76it/s]\u001b[A\u001b[32m[I 2021-01-16 13:40:06,746]\u001b[0m Trial 14 finished with value: 1.0 and parameters: {'num_leaves': 165}. Best is trial 7 with value: 1.0.\u001b[0m\n",
            "\n",
            "num_leaves, val_score: 1.000000:  40%|####      | 8/20 [00:01<00:01,  6.76it/s]\u001b[A"
          ],
          "name": "stderr"
        },
        {
          "output_type": "stream",
          "text": [
            "[100]\tvalid_0's auc: 1\tvalid_1's auc: 1\n",
            "Early stopping, best iteration is:\n",
            "[1]\tvalid_0's auc: 1\tvalid_1's auc: 1\n",
            "Training until validation scores don't improve for 100 rounds.\n",
            "[100]\tvalid_0's auc: 1\tvalid_1's auc: 1\n",
            "Early stopping, best iteration is:\n",
            "[1]\tvalid_0's auc: 1\tvalid_1's auc: 1\n"
          ],
          "name": "stdout"
        },
        {
          "output_type": "stream",
          "text": [
            "\n",
            "num_leaves, val_score: 1.000000:  40%|####      | 8/20 [00:01<00:01,  6.76it/s]\u001b[A\n",
            "num_leaves, val_score: 1.000000:  45%|####5     | 9/20 [00:01<00:01,  6.63it/s]\u001b[A\u001b[32m[I 2021-01-16 13:40:06,903]\u001b[0m Trial 15 finished with value: 1.0 and parameters: {'num_leaves': 202}. Best is trial 7 with value: 1.0.\u001b[0m\n",
            "\n",
            "num_leaves, val_score: 1.000000:  45%|####5     | 9/20 [00:01<00:01,  6.63it/s]\u001b[A"
          ],
          "name": "stderr"
        },
        {
          "output_type": "stream",
          "text": [
            "Training until validation scores don't improve for 100 rounds.\n",
            "[100]\tvalid_0's auc: 1\tvalid_1's auc: 1\n",
            "Early stopping, best iteration is:\n",
            "[1]\tvalid_0's auc: 1\tvalid_1's auc: 1\n",
            "Training until validation scores don't improve for 100 rounds.\n"
          ],
          "name": "stdout"
        },
        {
          "output_type": "stream",
          "text": [
            "\n",
            "num_leaves, val_score: 1.000000:  45%|####5     | 9/20 [00:01<00:01,  6.63it/s]\u001b[A\n",
            "num_leaves, val_score: 1.000000:  50%|#####     | 10/20 [00:01<00:01,  6.92it/s]\u001b[A\u001b[32m[I 2021-01-16 13:40:07,034]\u001b[0m Trial 16 finished with value: 1.0 and parameters: {'num_leaves': 9}. Best is trial 7 with value: 1.0.\u001b[0m\n",
            "\n",
            "num_leaves, val_score: 1.000000:  50%|#####     | 10/20 [00:01<00:01,  6.92it/s]\u001b[A\n",
            "num_leaves, val_score: 1.000000:  50%|#####     | 10/20 [00:01<00:01,  6.92it/s]\u001b[A\n",
            "num_leaves, val_score: 1.000000:  55%|#####5    | 11/20 [00:01<00:01,  7.09it/s]\u001b[A\u001b[32m[I 2021-01-16 13:40:07,165]\u001b[0m Trial 17 finished with value: 1.0 and parameters: {'num_leaves': 49}. Best is trial 7 with value: 1.0.\u001b[0m\n",
            "\n",
            "num_leaves, val_score: 1.000000:  55%|#####5    | 11/20 [00:01<00:01,  7.09it/s]\u001b[A"
          ],
          "name": "stderr"
        },
        {
          "output_type": "stream",
          "text": [
            "[100]\tvalid_0's auc: 1\tvalid_1's auc: 1\n",
            "Early stopping, best iteration is:\n",
            "[1]\tvalid_0's auc: 1\tvalid_1's auc: 1\n",
            "Training until validation scores don't improve for 100 rounds.\n",
            "[100]\tvalid_0's auc: 1\tvalid_1's auc: 1\n",
            "Early stopping, best iteration is:\n",
            "[1]\tvalid_0's auc: 1\tvalid_1's auc: 1\n",
            "Training until validation scores don't improve for 100 rounds.\n"
          ],
          "name": "stdout"
        },
        {
          "output_type": "stream",
          "text": [
            "\n",
            "num_leaves, val_score: 1.000000:  55%|#####5    | 11/20 [00:01<00:01,  7.09it/s]\u001b[A\n",
            "num_leaves, val_score: 1.000000:  60%|######    | 12/20 [00:01<00:01,  7.06it/s]\u001b[A\u001b[32m[I 2021-01-16 13:40:07,308]\u001b[0m Trial 18 finished with value: 1.0 and parameters: {'num_leaves': 69}. Best is trial 7 with value: 1.0.\u001b[0m\n",
            "\n",
            "num_leaves, val_score: 1.000000:  60%|######    | 12/20 [00:01<00:01,  7.06it/s]\u001b[A\n",
            "num_leaves, val_score: 1.000000:  60%|######    | 12/20 [00:01<00:01,  7.06it/s]\u001b[A\n",
            "num_leaves, val_score: 1.000000:  65%|######5   | 13/20 [00:01<00:00,  7.24it/s]\u001b[A\u001b[32m[I 2021-01-16 13:40:07,438]\u001b[0m Trial 19 finished with value: 1.0 and parameters: {'num_leaves': 61}. Best is trial 7 with value: 1.0.\u001b[0m\n",
            "\n",
            "num_leaves, val_score: 1.000000:  65%|######5   | 13/20 [00:01<00:00,  7.24it/s]\u001b[A"
          ],
          "name": "stderr"
        },
        {
          "output_type": "stream",
          "text": [
            "[100]\tvalid_0's auc: 1\tvalid_1's auc: 1\n",
            "Early stopping, best iteration is:\n",
            "[1]\tvalid_0's auc: 1\tvalid_1's auc: 1\n",
            "Training until validation scores don't improve for 100 rounds.\n",
            "[100]\tvalid_0's auc: 1\tvalid_1's auc: 1\n",
            "Early stopping, best iteration is:\n",
            "[1]\tvalid_0's auc: 1\tvalid_1's auc: 1\n",
            "Training until validation scores don't improve for 100 rounds.\n"
          ],
          "name": "stdout"
        },
        {
          "output_type": "stream",
          "text": [
            "\n",
            "num_leaves, val_score: 1.000000:  65%|######5   | 13/20 [00:02<00:00,  7.24it/s]\u001b[A\n",
            "num_leaves, val_score: 1.000000:  70%|#######   | 14/20 [00:02<00:00,  7.04it/s]\u001b[A\u001b[32m[I 2021-01-16 13:40:07,591]\u001b[0m Trial 20 finished with value: 1.0 and parameters: {'num_leaves': 253}. Best is trial 7 with value: 1.0.\u001b[0m\n",
            "\n",
            "num_leaves, val_score: 1.000000:  70%|#######   | 14/20 [00:02<00:00,  7.04it/s]\u001b[A\n",
            "num_leaves, val_score: 1.000000:  70%|#######   | 14/20 [00:02<00:00,  7.04it/s]\u001b[A\n",
            "num_leaves, val_score: 1.000000:  75%|#######5  | 15/20 [00:02<00:00,  7.03it/s]\u001b[A\u001b[32m[I 2021-01-16 13:40:07,739]\u001b[0m Trial 21 finished with value: 1.0 and parameters: {'num_leaves': 146}. Best is trial 7 with value: 1.0.\u001b[0m\n",
            "\n",
            "num_leaves, val_score: 1.000000:  75%|#######5  | 15/20 [00:02<00:00,  7.03it/s]\u001b[A"
          ],
          "name": "stderr"
        },
        {
          "output_type": "stream",
          "text": [
            "[100]\tvalid_0's auc: 1\tvalid_1's auc: 1\n",
            "Early stopping, best iteration is:\n",
            "[1]\tvalid_0's auc: 1\tvalid_1's auc: 1\n",
            "Training until validation scores don't improve for 100 rounds.\n",
            "[100]\tvalid_0's auc: 1\tvalid_1's auc: 1\n",
            "Early stopping, best iteration is:\n",
            "[1]\tvalid_0's auc: 1\tvalid_1's auc: 1\n",
            "Training until validation scores don't improve for 100 rounds.\n"
          ],
          "name": "stdout"
        },
        {
          "output_type": "stream",
          "text": [
            "\n",
            "num_leaves, val_score: 1.000000:  75%|#######5  | 15/20 [00:02<00:00,  7.03it/s]\u001b[A\n",
            "num_leaves, val_score: 1.000000:  80%|########  | 16/20 [00:02<00:00,  7.01it/s]\u001b[A\u001b[32m[I 2021-01-16 13:40:07,878]\u001b[0m Trial 22 finished with value: 1.0 and parameters: {'num_leaves': 20}. Best is trial 7 with value: 1.0.\u001b[0m\n",
            "\n",
            "num_leaves, val_score: 1.000000:  80%|########  | 16/20 [00:02<00:00,  7.01it/s]\u001b[A\n",
            "num_leaves, val_score: 1.000000:  80%|########  | 16/20 [00:02<00:00,  7.01it/s]\u001b[A\n",
            "num_leaves, val_score: 1.000000:  85%|########5 | 17/20 [00:02<00:00,  7.02it/s]\u001b[A\u001b[32m[I 2021-01-16 13:40:08,020]\u001b[0m Trial 23 finished with value: 1.0 and parameters: {'num_leaves': 94}. Best is trial 7 with value: 1.0.\u001b[0m\n",
            "\n",
            "num_leaves, val_score: 1.000000:  85%|########5 | 17/20 [00:02<00:00,  7.02it/s]\u001b[A"
          ],
          "name": "stderr"
        },
        {
          "output_type": "stream",
          "text": [
            "[100]\tvalid_0's auc: 1\tvalid_1's auc: 1\n",
            "Early stopping, best iteration is:\n",
            "[1]\tvalid_0's auc: 1\tvalid_1's auc: 1\n",
            "Training until validation scores don't improve for 100 rounds.\n",
            "[100]\tvalid_0's auc: 1\tvalid_1's auc: 1\n",
            "Early stopping, best iteration is:\n",
            "[1]\tvalid_0's auc: 1\tvalid_1's auc: 1\n"
          ],
          "name": "stdout"
        },
        {
          "output_type": "stream",
          "text": [
            "\n",
            "num_leaves, val_score: 1.000000:  85%|########5 | 17/20 [00:02<00:00,  7.02it/s]\u001b[A\n",
            "num_leaves, val_score: 1.000000:  90%|######### | 18/20 [00:02<00:00,  6.93it/s]\u001b[A\u001b[32m[I 2021-01-16 13:40:08,168]\u001b[0m Trial 24 finished with value: 1.0 and parameters: {'num_leaves': 143}. Best is trial 7 with value: 1.0.\u001b[0m\n",
            "\n",
            "num_leaves, val_score: 1.000000:  90%|######### | 18/20 [00:02<00:00,  6.93it/s]\u001b[A"
          ],
          "name": "stderr"
        },
        {
          "output_type": "stream",
          "text": [
            "Training until validation scores don't improve for 100 rounds.\n",
            "[100]\tvalid_0's auc: 1\tvalid_1's auc: 1\n",
            "Early stopping, best iteration is:\n",
            "[1]\tvalid_0's auc: 1\tvalid_1's auc: 1\n",
            "Training until validation scores don't improve for 100 rounds.\n"
          ],
          "name": "stdout"
        },
        {
          "output_type": "stream",
          "text": [
            "\n",
            "num_leaves, val_score: 1.000000:  90%|######### | 18/20 [00:02<00:00,  6.93it/s]\u001b[A\n",
            "num_leaves, val_score: 1.000000:  95%|#########5| 19/20 [00:02<00:00,  6.96it/s]\u001b[A\u001b[32m[I 2021-01-16 13:40:08,312]\u001b[0m Trial 25 finished with value: 1.0 and parameters: {'num_leaves': 11}. Best is trial 7 with value: 1.0.\u001b[0m\n",
            "\n",
            "num_leaves, val_score: 1.000000:  95%|#########5| 19/20 [00:02<00:00,  6.96it/s]\u001b[A\n",
            "num_leaves, val_score: 1.000000:  95%|#########5| 19/20 [00:02<00:00,  6.96it/s]\u001b[A\n",
            "num_leaves, val_score: 1.000000: 100%|##########| 20/20 [00:02<00:00,  7.06it/s]\u001b[A\u001b[32m[I 2021-01-16 13:40:08,447]\u001b[0m Trial 26 finished with value: 1.0 and parameters: {'num_leaves': 92}. Best is trial 7 with value: 1.0.\u001b[0m\n",
            "num_leaves, val_score: 1.000000: 100%|##########| 20/20 [00:02<00:00,  6.91it/s]\n",
            "\n",
            "  0%|          | 0/10 [00:00<?, ?it/s]\u001b[A\n",
            "bagging, val_score: 1.000000:   0%|          | 0/10 [00:00<?, ?it/s]\u001b[A"
          ],
          "name": "stderr"
        },
        {
          "output_type": "stream",
          "text": [
            "[100]\tvalid_0's auc: 1\tvalid_1's auc: 1\n",
            "Early stopping, best iteration is:\n",
            "[1]\tvalid_0's auc: 1\tvalid_1's auc: 1\n",
            "Training until validation scores don't improve for 100 rounds.\n",
            "[100]\tvalid_0's auc: 1\tvalid_1's auc: 1\n",
            "Early stopping, best iteration is:\n",
            "[1]\tvalid_0's auc: 1\tvalid_1's auc: 1\n"
          ],
          "name": "stdout"
        },
        {
          "output_type": "stream",
          "text": [
            "\n",
            "bagging, val_score: 1.000000:   0%|          | 0/10 [00:00<?, ?it/s]\u001b[A\u001b[32m[I 2021-01-16 13:40:08,547]\u001b[0m Trial 27 finished with value: 1.0 and parameters: {'bagging_fraction': 0.41114396430250816, 'bagging_freq': 7}. Best is trial 27 with value: 1.0.\u001b[0m\n",
            "\n",
            "bagging, val_score: 1.000000:  10%|#         | 1/10 [00:00<00:00, 10.46it/s]\u001b[A\n",
            "bagging, val_score: 1.000000:  10%|#         | 1/10 [00:00<00:01,  5.19it/s]\u001b[A\n",
            "bagging, val_score: 1.000000:  20%|##        | 2/10 [00:00<00:00, 10.23it/s]\u001b[A\u001b[32m[I 2021-01-16 13:40:08,658]\u001b[0m Trial 28 finished with value: 1.0 and parameters: {'bagging_fraction': 0.8317420428615806, 'bagging_freq': 4}. Best is trial 27 with value: 1.0.\u001b[0m\n",
            "\n",
            "bagging, val_score: 1.000000:  20%|##        | 2/10 [00:00<00:00, 10.23it/s]\u001b[A"
          ],
          "name": "stderr"
        },
        {
          "output_type": "stream",
          "text": [
            "Training until validation scores don't improve for 100 rounds.\n",
            "[100]\tvalid_0's auc: 1\tvalid_1's auc: 1\n",
            "Early stopping, best iteration is:\n",
            "[1]\tvalid_0's auc: 0.98549\tvalid_1's auc: 1\n",
            "Training until validation scores don't improve for 100 rounds.\n",
            "[100]\tvalid_0's auc: 1\tvalid_1's auc: 1\n",
            "Early stopping, best iteration is:\n",
            "[1]\tvalid_0's auc: 1\tvalid_1's auc: 1\n",
            "Training until validation scores don't improve for 100 rounds.\n"
          ],
          "name": "stdout"
        },
        {
          "output_type": "stream",
          "text": [
            "\n",
            "bagging, val_score: 1.000000:  20%|##        | 2/10 [00:00<00:00, 10.23it/s]\u001b[A\n",
            "bagging, val_score: 1.000000:  30%|###       | 3/10 [00:00<00:00,  9.97it/s]\u001b[A\u001b[32m[I 2021-01-16 13:40:08,765]\u001b[0m Trial 29 finished with value: 1.0 and parameters: {'bagging_fraction': 0.6144600535985819, 'bagging_freq': 1}. Best is trial 27 with value: 1.0.\u001b[0m\n",
            "\n",
            "bagging, val_score: 1.000000:  30%|###       | 3/10 [00:00<00:00,  9.97it/s]\u001b[A\n",
            "bagging, val_score: 1.000000:  30%|###       | 3/10 [00:00<00:00,  9.97it/s]\u001b[A\n",
            "bagging, val_score: 1.000000:  40%|####      | 4/10 [00:00<00:00,  8.83it/s]\u001b[A\u001b[32m[I 2021-01-16 13:40:08,909]\u001b[0m Trial 30 finished with value: 1.0 and parameters: {'bagging_fraction': 0.9130444259706725, 'bagging_freq': 6}. Best is trial 27 with value: 1.0.\u001b[0m\n",
            "\n",
            "bagging, val_score: 1.000000:  40%|####      | 4/10 [00:00<00:00,  8.83it/s]\u001b[A"
          ],
          "name": "stderr"
        },
        {
          "output_type": "stream",
          "text": [
            "[100]\tvalid_0's auc: 1\tvalid_1's auc: 1\n",
            "Early stopping, best iteration is:\n",
            "[1]\tvalid_0's auc: 1\tvalid_1's auc: 1\n",
            "Training until validation scores don't improve for 100 rounds.\n",
            "[100]\tvalid_0's auc: 1\tvalid_1's auc: 1\n",
            "Early stopping, best iteration is:\n",
            "[1]\tvalid_0's auc: 1\tvalid_1's auc: 1\n",
            "Training until validation scores don't improve for 100 rounds.\n"
          ],
          "name": "stdout"
        },
        {
          "output_type": "stream",
          "text": [
            "\n",
            "bagging, val_score: 1.000000:  40%|####      | 4/10 [00:00<00:00,  8.83it/s]\u001b[A\n",
            "bagging, val_score: 1.000000:  50%|#####     | 5/10 [00:00<00:00,  9.06it/s]\u001b[A\u001b[32m[I 2021-01-16 13:40:09,012]\u001b[0m Trial 31 finished with value: 1.0 and parameters: {'bagging_fraction': 0.5407874064876393, 'bagging_freq': 4}. Best is trial 27 with value: 1.0.\u001b[0m\n",
            "\n",
            "bagging, val_score: 1.000000:  50%|#####     | 5/10 [00:00<00:00,  9.06it/s]\u001b[A\n",
            "bagging, val_score: 1.000000:  50%|#####     | 5/10 [00:00<00:00,  9.06it/s]\u001b[A\n",
            "bagging, val_score: 1.000000:  60%|######    | 6/10 [00:00<00:00,  8.73it/s]\u001b[A\u001b[32m[I 2021-01-16 13:40:09,136]\u001b[0m Trial 32 finished with value: 1.0 and parameters: {'bagging_fraction': 0.8404560637387096, 'bagging_freq': 6}. Best is trial 27 with value: 1.0.\u001b[0m\n",
            "\n",
            "bagging, val_score: 1.000000:  60%|######    | 6/10 [00:00<00:00,  8.73it/s]\u001b[A"
          ],
          "name": "stderr"
        },
        {
          "output_type": "stream",
          "text": [
            "[100]\tvalid_0's auc: 1\tvalid_1's auc: 1\n",
            "Early stopping, best iteration is:\n",
            "[1]\tvalid_0's auc: 0.993421\tvalid_1's auc: 1\n",
            "Training until validation scores don't improve for 100 rounds.\n",
            "[100]\tvalid_0's auc: 1\tvalid_1's auc: 1\n",
            "Early stopping, best iteration is:\n",
            "[1]\tvalid_0's auc: 1\tvalid_1's auc: 1\n",
            "Training until validation scores don't improve for 100 rounds.\n"
          ],
          "name": "stdout"
        },
        {
          "output_type": "stream",
          "text": [
            "\n",
            "bagging, val_score: 1.000000:  60%|######    | 6/10 [00:00<00:00,  8.73it/s]\u001b[A\n",
            "bagging, val_score: 1.000000:  70%|#######   | 7/10 [00:00<00:00,  8.51it/s]\u001b[A\u001b[32m[I 2021-01-16 13:40:09,260]\u001b[0m Trial 33 finished with value: 1.0 and parameters: {'bagging_fraction': 0.87492851270529, 'bagging_freq': 2}. Best is trial 27 with value: 1.0.\u001b[0m\n",
            "\n",
            "bagging, val_score: 1.000000:  70%|#######   | 7/10 [00:00<00:00,  8.51it/s]\u001b[A\n",
            "bagging, val_score: 1.000000:  70%|#######   | 7/10 [00:00<00:00,  8.51it/s]\u001b[A\n",
            "bagging, val_score: 1.000000:  80%|########  | 8/10 [00:00<00:00,  8.26it/s]\u001b[A\u001b[32m[I 2021-01-16 13:40:09,390]\u001b[0m Trial 34 finished with value: 1.0 and parameters: {'bagging_fraction': 0.9095566275888274, 'bagging_freq': 3}. Best is trial 27 with value: 1.0.\u001b[0m\n",
            "\n",
            "bagging, val_score: 1.000000:  80%|########  | 8/10 [00:00<00:00,  8.26it/s]\u001b[A"
          ],
          "name": "stderr"
        },
        {
          "output_type": "stream",
          "text": [
            "[100]\tvalid_0's auc: 1\tvalid_1's auc: 1\n",
            "Early stopping, best iteration is:\n",
            "[1]\tvalid_0's auc: 1\tvalid_1's auc: 1\n",
            "Training until validation scores don't improve for 100 rounds.\n",
            "[100]\tvalid_0's auc: 1\tvalid_1's auc: 1\n",
            "Early stopping, best iteration is:\n",
            "[1]\tvalid_0's auc: 1\tvalid_1's auc: 1\n",
            "Training until validation scores don't improve for 100 rounds.\n"
          ],
          "name": "stdout"
        },
        {
          "output_type": "stream",
          "text": [
            "\n",
            "bagging, val_score: 1.000000:  80%|########  | 8/10 [00:01<00:00,  8.26it/s]\u001b[A\n",
            "bagging, val_score: 1.000000:  90%|######### | 9/10 [00:01<00:00,  8.69it/s]\u001b[A\u001b[32m[I 2021-01-16 13:40:09,491]\u001b[0m Trial 35 finished with value: 1.0 and parameters: {'bagging_fraction': 0.45998766806876024, 'bagging_freq': 5}. Best is trial 27 with value: 1.0.\u001b[0m\n",
            "\n",
            "bagging, val_score: 1.000000:  90%|######### | 9/10 [00:01<00:00,  8.69it/s]\u001b[A\n",
            "bagging, val_score: 1.000000:  90%|######### | 9/10 [00:01<00:00,  8.69it/s]\u001b[A\u001b[32m[I 2021-01-16 13:40:09,578]\u001b[0m Trial 36 finished with value: 1.0 and parameters: {'bagging_fraction': 0.544991128971645, 'bagging_freq': 4}. Best is trial 27 with value: 1.0.\u001b[0m\n",
            "bagging, val_score: 1.000000: 100%|##########| 10/10 [00:01<00:00,  8.89it/s]\n",
            "\n",
            "  0%|          | 0/3 [00:00<?, ?it/s]\u001b[A\n",
            "feature_fraction_stage2, val_score: 1.000000:   0%|          | 0/3 [00:00<?, ?it/s]\u001b[A"
          ],
          "name": "stderr"
        },
        {
          "output_type": "stream",
          "text": [
            "[100]\tvalid_0's auc: 1\tvalid_1's auc: 1\n",
            "Early stopping, best iteration is:\n",
            "[1]\tvalid_0's auc: 0.983237\tvalid_1's auc: 1\n",
            "Training until validation scores don't improve for 100 rounds.\n",
            "[100]\tvalid_0's auc: 1\tvalid_1's auc: 1\n",
            "Early stopping, best iteration is:\n",
            "[1]\tvalid_0's auc: 0.993421\tvalid_1's auc: 1\n",
            "Training until validation scores don't improve for 100 rounds.\n"
          ],
          "name": "stdout"
        },
        {
          "output_type": "stream",
          "text": [
            "\n",
            "feature_fraction_stage2, val_score: 1.000000:   0%|          | 0/3 [00:00<?, ?it/s]\u001b[A\n",
            "feature_fraction_stage2, val_score: 1.000000:  33%|###3      | 1/3 [00:00<00:00,  7.28it/s]\u001b[A\u001b[32m[I 2021-01-16 13:40:09,739]\u001b[0m Trial 37 finished with value: 1.0 and parameters: {'feature_fraction': 0.41600000000000004}. Best is trial 37 with value: 1.0.\u001b[0m\n",
            "\n",
            "feature_fraction_stage2, val_score: 1.000000:  33%|###3      | 1/3 [00:00<00:00,  7.28it/s]\u001b[A\n",
            "feature_fraction_stage2, val_score: 1.000000:  33%|###3      | 1/3 [00:00<00:00,  7.28it/s]\u001b[A\n",
            "feature_fraction_stage2, val_score: 1.000000:  67%|######6   | 2/3 [00:00<00:00,  6.96it/s]\u001b[A\u001b[32m[I 2021-01-16 13:40:09,904]\u001b[0m Trial 38 finished with value: 1.0 and parameters: {'feature_fraction': 0.48000000000000004}. Best is trial 37 with value: 1.0.\u001b[0m\n",
            "\n"
          ],
          "name": "stderr"
        },
        {
          "output_type": "stream",
          "text": [
            "[100]\tvalid_0's auc: 1\tvalid_1's auc: 1\n",
            "Early stopping, best iteration is:\n",
            "[1]\tvalid_0's auc: 1\tvalid_1's auc: 1\n",
            "Training until validation scores don't improve for 100 rounds.\n",
            "[100]\tvalid_0's auc: 1\tvalid_1's auc: 1\n",
            "Early stopping, best iteration is:\n",
            "[1]\tvalid_0's auc: 1\tvalid_1's auc: 1\n"
          ],
          "name": "stdout"
        },
        {
          "output_type": "stream",
          "text": [
            "feature_fraction_stage2, val_score: 1.000000:  67%|######6   | 2/3 [00:00<00:00,  6.96it/s]\u001b[A\n",
            "feature_fraction_stage2, val_score: 1.000000:  67%|######6   | 2/3 [00:00<00:00,  6.96it/s]\u001b[A\n",
            "feature_fraction_stage2, val_score: 1.000000: 100%|##########| 3/3 [00:00<00:00,  6.93it/s]\u001b[A\u001b[32m[I 2021-01-16 13:40:10,046]\u001b[0m Trial 39 finished with value: 1.0 and parameters: {'feature_fraction': 0.44800000000000006}. Best is trial 37 with value: 1.0.\u001b[0m\n",
            "feature_fraction_stage2, val_score: 1.000000: 100%|##########| 3/3 [00:00<00:00,  6.55it/s]\n",
            "\n",
            "  0%|          | 0/20 [00:00<?, ?it/s]\u001b[A\n",
            "regularization_factors, val_score: 1.000000:   0%|          | 0/20 [00:00<?, ?it/s]\u001b[A\n",
            "regularization_factors, val_score: 1.000000:   0%|          | 0/20 [00:00<?, ?it/s]\u001b[A\u001b[32m[I 2021-01-16 13:40:10,135]\u001b[0m Trial 40 finished with value: 1.0 and parameters: {'lambda_l1': 3.9835704558543688, 'lambda_l2': 1.3450455953287692}. Best is trial 40 with value: 1.0.\u001b[0m\n",
            "\n",
            "regularization_factors, val_score: 1.000000:   5%|5         | 1/20 [00:00<00:01, 11.74it/s]\u001b[A"
          ],
          "name": "stderr"
        },
        {
          "output_type": "stream",
          "text": [
            "Training until validation scores don't improve for 100 rounds.\n",
            "[100]\tvalid_0's auc: 1\tvalid_1's auc: 1\n",
            "Early stopping, best iteration is:\n",
            "[1]\tvalid_0's auc: 1\tvalid_1's auc: 1\n",
            "Training until validation scores don't improve for 100 rounds.\n",
            "[100]\tvalid_0's auc: 1\tvalid_1's auc: 1\n",
            "Early stopping, best iteration is:\n",
            "[1]\tvalid_0's auc: 1\tvalid_1's auc: 1\n"
          ],
          "name": "stdout"
        },
        {
          "output_type": "stream",
          "text": [
            "\n",
            "regularization_factors, val_score: 1.000000:   5%|5         | 1/20 [00:00<00:03,  5.07it/s]\u001b[A\n",
            "regularization_factors, val_score: 1.000000:  10%|#         | 2/20 [00:00<00:01,  9.95it/s]\u001b[A\u001b[32m[I 2021-01-16 13:40:10,262]\u001b[0m Trial 41 finished with value: 1.0 and parameters: {'lambda_l1': 0.0005205739191647273, 'lambda_l2': 4.20105665540046e-06}. Best is trial 40 with value: 1.0.\u001b[0m\n",
            "\n",
            "regularization_factors, val_score: 1.000000:  10%|#         | 2/20 [00:00<00:01,  9.95it/s]\u001b[A\n",
            "regularization_factors, val_score: 1.000000:  10%|#         | 2/20 [00:00<00:01,  9.95it/s]\u001b[A\u001b[32m[I 2021-01-16 13:40:10,348]\u001b[0m Trial 42 finished with value: 1.0 and parameters: {'lambda_l1': 0.7752923183210007, 'lambda_l2': 2.1995893886038535e-05}. Best is trial 40 with value: 1.0.\u001b[0m\n",
            "\n",
            "regularization_factors, val_score: 1.000000:  15%|#5        | 3/20 [00:00<00:01,  9.95it/s]\u001b[A"
          ],
          "name": "stderr"
        },
        {
          "output_type": "stream",
          "text": [
            "Training until validation scores don't improve for 100 rounds.\n",
            "[100]\tvalid_0's auc: 1\tvalid_1's auc: 1\n",
            "Early stopping, best iteration is:\n",
            "[1]\tvalid_0's auc: 1\tvalid_1's auc: 1\n",
            "Training until validation scores don't improve for 100 rounds.\n",
            "[100]\tvalid_0's auc: 1\tvalid_1's auc: 1\n",
            "Early stopping, best iteration is:\n",
            "[1]\tvalid_0's auc: 1\tvalid_1's auc: 1\n"
          ],
          "name": "stdout"
        },
        {
          "output_type": "stream",
          "text": [
            "\n",
            "regularization_factors, val_score: 1.000000:  15%|#5        | 3/20 [00:00<00:01,  9.95it/s]\u001b[A\n",
            "regularization_factors, val_score: 1.000000:  20%|##        | 4/20 [00:00<00:01,  9.79it/s]\u001b[A\u001b[32m[I 2021-01-16 13:40:10,473]\u001b[0m Trial 43 finished with value: 1.0 and parameters: {'lambda_l1': 0.004373219448587104, 'lambda_l2': 0.036661227610240536}. Best is trial 40 with value: 1.0.\u001b[0m\n",
            "\n",
            "regularization_factors, val_score: 1.000000:  20%|##        | 4/20 [00:00<00:01,  9.79it/s]\u001b[A"
          ],
          "name": "stderr"
        },
        {
          "output_type": "stream",
          "text": [
            "Training until validation scores don't improve for 100 rounds.\n",
            "[100]\tvalid_0's auc: 1\tvalid_1's auc: 1\n",
            "Early stopping, best iteration is:\n",
            "[1]\tvalid_0's auc: 1\tvalid_1's auc: 1\n",
            "Training until validation scores don't improve for 100 rounds.\n"
          ],
          "name": "stdout"
        },
        {
          "output_type": "stream",
          "text": [
            "\n",
            "regularization_factors, val_score: 1.000000:  20%|##        | 4/20 [00:00<00:01,  9.79it/s]\u001b[A\n",
            "regularization_factors, val_score: 1.000000:  25%|##5       | 5/20 [00:00<00:01,  8.87it/s]\u001b[A\u001b[32m[I 2021-01-16 13:40:10,610]\u001b[0m Trial 44 finished with value: 1.0 and parameters: {'lambda_l1': 3.3094496309573915e-05, 'lambda_l2': 4.849457800163687e-06}. Best is trial 40 with value: 1.0.\u001b[0m\n",
            "\n",
            "regularization_factors, val_score: 1.000000:  25%|##5       | 5/20 [00:00<00:01,  8.87it/s]\u001b[A\n",
            "regularization_factors, val_score: 1.000000:  25%|##5       | 5/20 [00:00<00:01,  8.87it/s]\u001b[A\n",
            "regularization_factors, val_score: 1.000000:  30%|###       | 6/20 [00:00<00:01,  8.54it/s]\u001b[A\u001b[32m[I 2021-01-16 13:40:10,737]\u001b[0m Trial 45 finished with value: 1.0 and parameters: {'lambda_l1': 5.705922390170416e-08, 'lambda_l2': 3.981175299607994e-06}. Best is trial 40 with value: 1.0.\u001b[0m\n",
            "\n",
            "regularization_factors, val_score: 1.000000:  30%|###       | 6/20 [00:00<00:01,  8.54it/s]\u001b[A"
          ],
          "name": "stderr"
        },
        {
          "output_type": "stream",
          "text": [
            "[100]\tvalid_0's auc: 1\tvalid_1's auc: 1\n",
            "Early stopping, best iteration is:\n",
            "[1]\tvalid_0's auc: 1\tvalid_1's auc: 1\n",
            "Training until validation scores don't improve for 100 rounds.\n",
            "[100]\tvalid_0's auc: 1\tvalid_1's auc: 1\n",
            "Early stopping, best iteration is:\n",
            "[1]\tvalid_0's auc: 1\tvalid_1's auc: 1\n",
            "Training until validation scores don't improve for 100 rounds.\n"
          ],
          "name": "stdout"
        },
        {
          "output_type": "stream",
          "text": [
            "\n",
            "regularization_factors, val_score: 1.000000:  30%|###       | 6/20 [00:00<00:01,  8.54it/s]\u001b[A\u001b[32m[I 2021-01-16 13:40:10,819]\u001b[0m Trial 46 finished with value: 1.0 and parameters: {'lambda_l1': 2.640814166667013, 'lambda_l2': 0.004989408526978739}. Best is trial 40 with value: 1.0.\u001b[0m\n",
            "\n",
            "regularization_factors, val_score: 1.000000:  35%|###5      | 7/20 [00:00<00:01,  8.54it/s]\u001b[A\n",
            "regularization_factors, val_score: 1.000000:  35%|###5      | 7/20 [00:00<00:01,  8.54it/s]\u001b[A\n",
            "regularization_factors, val_score: 1.000000:  40%|####      | 8/20 [00:00<00:01,  8.75it/s]\u001b[A\u001b[32m[I 2021-01-16 13:40:10,954]\u001b[0m Trial 47 finished with value: 1.0 and parameters: {'lambda_l1': 7.742697952414064e-07, 'lambda_l2': 1.1218338381867535e-05}. Best is trial 40 with value: 1.0.\u001b[0m\n",
            "\n",
            "regularization_factors, val_score: 1.000000:  40%|####      | 8/20 [00:00<00:01,  8.75it/s]\u001b[A"
          ],
          "name": "stderr"
        },
        {
          "output_type": "stream",
          "text": [
            "[100]\tvalid_0's auc: 1\tvalid_1's auc: 1\n",
            "Early stopping, best iteration is:\n",
            "[1]\tvalid_0's auc: 1\tvalid_1's auc: 1\n",
            "Training until validation scores don't improve for 100 rounds.\n",
            "[100]\tvalid_0's auc: 1\tvalid_1's auc: 1\n",
            "Early stopping, best iteration is:\n",
            "[1]\tvalid_0's auc: 1\tvalid_1's auc: 1\n",
            "Training until validation scores don't improve for 100 rounds.\n"
          ],
          "name": "stdout"
        },
        {
          "output_type": "stream",
          "text": [
            "\n",
            "regularization_factors, val_score: 1.000000:  40%|####      | 8/20 [00:01<00:01,  8.75it/s]\u001b[A\n",
            "regularization_factors, val_score: 1.000000:  45%|####5     | 9/20 [00:01<00:01,  8.37it/s]\u001b[A\u001b[32m[I 2021-01-16 13:40:11,085]\u001b[0m Trial 48 finished with value: 1.0 and parameters: {'lambda_l1': 0.12859239710721757, 'lambda_l2': 3.810903104592435e-08}. Best is trial 40 with value: 1.0.\u001b[0m\n",
            "\n",
            "regularization_factors, val_score: 1.000000:  45%|####5     | 9/20 [00:01<00:01,  8.37it/s]\u001b[A\n",
            "regularization_factors, val_score: 1.000000:  45%|####5     | 9/20 [00:01<00:01,  8.37it/s]\u001b[A\n",
            "regularization_factors, val_score: 1.000000:  50%|#####     | 10/20 [00:01<00:01,  8.26it/s]\u001b[A\u001b[32m[I 2021-01-16 13:40:11,210]\u001b[0m Trial 49 finished with value: 1.0 and parameters: {'lambda_l1': 0.008176448012380547, 'lambda_l2': 5.28758872186967}. Best is trial 40 with value: 1.0.\u001b[0m\n",
            "\n",
            "regularization_factors, val_score: 1.000000:  50%|#####     | 10/20 [00:01<00:01,  8.26it/s]\u001b[A"
          ],
          "name": "stderr"
        },
        {
          "output_type": "stream",
          "text": [
            "[100]\tvalid_0's auc: 1\tvalid_1's auc: 1\n",
            "Early stopping, best iteration is:\n",
            "[1]\tvalid_0's auc: 1\tvalid_1's auc: 1\n",
            "Training until validation scores don't improve for 100 rounds.\n",
            "[100]\tvalid_0's auc: 1\tvalid_1's auc: 1\n",
            "Early stopping, best iteration is:\n",
            "[1]\tvalid_0's auc: 1\tvalid_1's auc: 1\n",
            "Training until validation scores don't improve for 100 rounds.\n"
          ],
          "name": "stdout"
        },
        {
          "output_type": "stream",
          "text": [
            "\n",
            "regularization_factors, val_score: 1.000000:  50%|#####     | 10/20 [00:01<00:01,  8.26it/s]\u001b[A\u001b[32m[I 2021-01-16 13:40:11,292]\u001b[0m Trial 50 finished with value: 1.0 and parameters: {'lambda_l1': 4.05506090691835, 'lambda_l2': 9.395378002236457}. Best is trial 40 with value: 1.0.\u001b[0m\n",
            "\n",
            "regularization_factors, val_score: 1.000000:  55%|#####5    | 11/20 [00:01<00:01,  8.26it/s]\u001b[A\n",
            "regularization_factors, val_score: 1.000000:  55%|#####5    | 11/20 [00:01<00:01,  8.26it/s]\u001b[A\n",
            "regularization_factors, val_score: 1.000000:  60%|######    | 12/20 [00:01<00:00,  8.29it/s]\u001b[A\u001b[32m[I 2021-01-16 13:40:11,449]\u001b[0m Trial 51 finished with value: 1.0 and parameters: {'lambda_l1': 4.885125740957851e-05, 'lambda_l2': 1.057013913996504e-08}. Best is trial 40 with value: 1.0.\u001b[0m\n",
            "\n",
            "regularization_factors, val_score: 1.000000:  60%|######    | 12/20 [00:01<00:00,  8.29it/s]\u001b[A"
          ],
          "name": "stderr"
        },
        {
          "output_type": "stream",
          "text": [
            "[100]\tvalid_0's auc: 1\tvalid_1's auc: 1\n",
            "Early stopping, best iteration is:\n",
            "[1]\tvalid_0's auc: 1\tvalid_1's auc: 1\n",
            "Training until validation scores don't improve for 100 rounds.\n",
            "[100]\tvalid_0's auc: 1\tvalid_1's auc: 1\n",
            "Early stopping, best iteration is:\n",
            "[1]\tvalid_0's auc: 1\tvalid_1's auc: 1\n"
          ],
          "name": "stdout"
        },
        {
          "output_type": "stream",
          "text": [
            "\n",
            "regularization_factors, val_score: 1.000000:  60%|######    | 12/20 [00:01<00:00,  8.29it/s]\u001b[A\n",
            "regularization_factors, val_score: 1.000000:  65%|######5   | 13/20 [00:01<00:00,  7.87it/s]\u001b[A\u001b[32m[I 2021-01-16 13:40:11,590]\u001b[0m Trial 52 finished with value: 1.0 and parameters: {'lambda_l1': 0.0011666100141497176, 'lambda_l2': 2.163244009883486e-07}. Best is trial 40 with value: 1.0.\u001b[0m\n",
            "\n",
            "regularization_factors, val_score: 1.000000:  65%|######5   | 13/20 [00:01<00:00,  7.87it/s]\u001b[A"
          ],
          "name": "stderr"
        },
        {
          "output_type": "stream",
          "text": [
            "Training until validation scores don't improve for 100 rounds.\n",
            "[100]\tvalid_0's auc: 1\tvalid_1's auc: 1\n",
            "Early stopping, best iteration is:\n",
            "[1]\tvalid_0's auc: 1\tvalid_1's auc: 1\n",
            "Training until validation scores don't improve for 100 rounds.\n"
          ],
          "name": "stdout"
        },
        {
          "output_type": "stream",
          "text": [
            "\n",
            "regularization_factors, val_score: 1.000000:  65%|######5   | 13/20 [00:01<00:00,  7.87it/s]\u001b[A\n",
            "regularization_factors, val_score: 1.000000:  70%|#######   | 14/20 [00:01<00:00,  7.63it/s]\u001b[A\u001b[32m[I 2021-01-16 13:40:11,730]\u001b[0m Trial 53 finished with value: 1.0 and parameters: {'lambda_l1': 2.243311378487685e-06, 'lambda_l2': 0.0013511103289055863}. Best is trial 40 with value: 1.0.\u001b[0m\n",
            "\n",
            "regularization_factors, val_score: 1.000000:  70%|#######   | 14/20 [00:01<00:00,  7.63it/s]\u001b[A\n",
            "regularization_factors, val_score: 1.000000:  70%|#######   | 14/20 [00:01<00:00,  7.63it/s]\u001b[A\n",
            "regularization_factors, val_score: 1.000000:  75%|#######5  | 15/20 [00:01<00:00,  7.72it/s]\u001b[A\u001b[32m[I 2021-01-16 13:40:11,856]\u001b[0m Trial 54 finished with value: 1.0 and parameters: {'lambda_l1': 0.06317906521501077, 'lambda_l2': 0.20044501557510438}. Best is trial 40 with value: 1.0.\u001b[0m\n",
            "\n",
            "regularization_factors, val_score: 1.000000:  75%|#######5  | 15/20 [00:01<00:00,  7.72it/s]\u001b[A"
          ],
          "name": "stderr"
        },
        {
          "output_type": "stream",
          "text": [
            "[100]\tvalid_0's auc: 1\tvalid_1's auc: 1\n",
            "Early stopping, best iteration is:\n",
            "[1]\tvalid_0's auc: 1\tvalid_1's auc: 1\n",
            "Training until validation scores don't improve for 100 rounds.\n",
            "[100]\tvalid_0's auc: 1\tvalid_1's auc: 1\n",
            "Early stopping, best iteration is:\n",
            "[1]\tvalid_0's auc: 1\tvalid_1's auc: 1\n",
            "Training until validation scores don't improve for 100 rounds.\n"
          ],
          "name": "stdout"
        },
        {
          "output_type": "stream",
          "text": [
            "\n",
            "regularization_factors, val_score: 1.000000:  75%|#######5  | 15/20 [00:01<00:00,  7.72it/s]\u001b[A\n",
            "regularization_factors, val_score: 1.000000:  80%|########  | 16/20 [00:01<00:00,  7.50it/s]\u001b[A\u001b[32m[I 2021-01-16 13:40:11,998]\u001b[0m Trial 55 finished with value: 1.0 and parameters: {'lambda_l1': 2.365635005343127e-08, 'lambda_l2': 0.00015838414162106388}. Best is trial 40 with value: 1.0.\u001b[0m\n",
            "\n",
            "regularization_factors, val_score: 1.000000:  80%|########  | 16/20 [00:01<00:00,  7.50it/s]\u001b[A\n",
            "regularization_factors, val_score: 1.000000:  80%|########  | 16/20 [00:02<00:00,  7.50it/s]\u001b[A\n",
            "regularization_factors, val_score: 1.000000:  85%|########5 | 17/20 [00:02<00:00,  7.53it/s]\u001b[A\u001b[32m[I 2021-01-16 13:40:12,130]\u001b[0m Trial 56 finished with value: 1.0 and parameters: {'lambda_l1': 0.0001738613689580587, 'lambda_l2': 1.1273158990880203}. Best is trial 40 with value: 1.0.\u001b[0m\n",
            "\n",
            "regularization_factors, val_score: 1.000000:  85%|########5 | 17/20 [00:02<00:00,  7.53it/s]\u001b[A"
          ],
          "name": "stderr"
        },
        {
          "output_type": "stream",
          "text": [
            "[100]\tvalid_0's auc: 1\tvalid_1's auc: 1\n",
            "Early stopping, best iteration is:\n",
            "[1]\tvalid_0's auc: 1\tvalid_1's auc: 1\n",
            "Training until validation scores don't improve for 100 rounds.\n",
            "[100]\tvalid_0's auc: 1\tvalid_1's auc: 1\n",
            "Early stopping, best iteration is:\n",
            "[1]\tvalid_0's auc: 1\tvalid_1's auc: 1\n",
            "Training until validation scores don't improve for 100 rounds.\n"
          ],
          "name": "stdout"
        },
        {
          "output_type": "stream",
          "text": [
            "\n",
            "regularization_factors, val_score: 1.000000:  85%|########5 | 17/20 [00:02<00:00,  7.53it/s]\u001b[A\n",
            "regularization_factors, val_score: 1.000000:  90%|######### | 18/20 [00:02<00:00,  7.34it/s]\u001b[A\u001b[32m[I 2021-01-16 13:40:12,274]\u001b[0m Trial 57 finished with value: 1.0 and parameters: {'lambda_l1': 0.08325808391256018, 'lambda_l2': 0.17903667712529073}. Best is trial 40 with value: 1.0.\u001b[0m\n",
            "\n",
            "regularization_factors, val_score: 1.000000:  90%|######### | 18/20 [00:02<00:00,  7.34it/s]\u001b[A\n",
            "regularization_factors, val_score: 1.000000:  90%|######### | 18/20 [00:02<00:00,  7.34it/s]\u001b[A\n",
            "regularization_factors, val_score: 1.000000:  95%|#########5| 19/20 [00:02<00:00,  7.40it/s]\u001b[A\u001b[32m[I 2021-01-16 13:40:12,406]\u001b[0m Trial 58 finished with value: 1.0 and parameters: {'lambda_l1': 6.192053932323475e-08, 'lambda_l2': 0.0001472949808142509}. Best is trial 40 with value: 1.0.\u001b[0m\n",
            "\n",
            "regularization_factors, val_score: 1.000000:  95%|#########5| 19/20 [00:02<00:00,  7.40it/s]\u001b[A"
          ],
          "name": "stderr"
        },
        {
          "output_type": "stream",
          "text": [
            "[100]\tvalid_0's auc: 1\tvalid_1's auc: 1\n",
            "Early stopping, best iteration is:\n",
            "[1]\tvalid_0's auc: 1\tvalid_1's auc: 1\n",
            "Training until validation scores don't improve for 100 rounds.\n",
            "[100]\tvalid_0's auc: 1\tvalid_1's auc: 1\n",
            "Early stopping, best iteration is:\n",
            "[1]\tvalid_0's auc: 1\tvalid_1's auc: 1\n",
            "Training until validation scores don't improve for 100 rounds.\n"
          ],
          "name": "stdout"
        },
        {
          "output_type": "stream",
          "text": [
            "\n",
            "regularization_factors, val_score: 1.000000:  95%|#########5| 19/20 [00:02<00:00,  7.40it/s]\u001b[A\n",
            "regularization_factors, val_score: 1.000000: 100%|##########| 20/20 [00:02<00:00,  7.41it/s]\u001b[A\u001b[32m[I 2021-01-16 13:40:12,541]\u001b[0m Trial 59 finished with value: 1.0 and parameters: {'lambda_l1': 6.46812043525161e-05, 'lambda_l2': 1.4553955134901235}. Best is trial 40 with value: 1.0.\u001b[0m\n",
            "regularization_factors, val_score: 1.000000: 100%|##########| 20/20 [00:02<00:00,  8.03it/s]\n",
            "\n",
            "  0%|          | 0/5 [00:00<?, ?it/s]\u001b[A\n",
            "min_data_in_leaf, val_score: 1.000000:   0%|          | 0/5 [00:00<?, ?it/s]\u001b[A"
          ],
          "name": "stderr"
        },
        {
          "output_type": "stream",
          "text": [
            "[100]\tvalid_0's auc: 1\tvalid_1's auc: 1\n",
            "Early stopping, best iteration is:\n",
            "[1]\tvalid_0's auc: 1\tvalid_1's auc: 1\n",
            "Training until validation scores don't improve for 100 rounds.\n"
          ],
          "name": "stdout"
        },
        {
          "output_type": "stream",
          "text": [
            "\n",
            "min_data_in_leaf, val_score: 1.000000:   0%|          | 0/5 [00:00<?, ?it/s]\u001b[A\n",
            "min_data_in_leaf, val_score: 1.000000:  20%|##        | 1/5 [00:00<00:00,  4.66it/s]\u001b[A\u001b[32m[I 2021-01-16 13:40:12,779]\u001b[0m Trial 60 finished with value: 1.0 and parameters: {'min_child_samples': 10}. Best is trial 60 with value: 1.0.\u001b[0m\n",
            "\n",
            "min_data_in_leaf, val_score: 1.000000:  20%|##        | 1/5 [00:00<00:00,  4.66it/s]\u001b[A\n",
            "min_data_in_leaf, val_score: 1.000000:  20%|##        | 1/5 [00:00<00:00,  4.66it/s]\u001b[A\u001b[32m[I 2021-01-16 13:40:12,852]\u001b[0m Trial 61 finished with value: 1.0 and parameters: {'min_child_samples': 100}. Best is trial 60 with value: 1.0.\u001b[0m\n",
            "\n",
            "min_data_in_leaf, val_score: 1.000000:  40%|####      | 2/5 [00:00<00:00,  4.66it/s]\u001b[A"
          ],
          "name": "stderr"
        },
        {
          "output_type": "stream",
          "text": [
            "[100]\tvalid_0's auc: 1\tvalid_1's auc: 1\n",
            "Early stopping, best iteration is:\n",
            "[1]\tvalid_0's auc: 1\tvalid_1's auc: 1\n",
            "Training until validation scores don't improve for 100 rounds.\n",
            "[100]\tvalid_0's auc: 0.99973\tvalid_1's auc: 1\n",
            "Early stopping, best iteration is:\n",
            "[2]\tvalid_0's auc: 0.967781\tvalid_1's auc: 1\n",
            "Training until validation scores don't improve for 100 rounds.\n"
          ],
          "name": "stdout"
        },
        {
          "output_type": "stream",
          "text": [
            "\n",
            "min_data_in_leaf, val_score: 1.000000:  40%|####      | 2/5 [00:00<00:00,  4.66it/s]\u001b[A\n",
            "min_data_in_leaf, val_score: 1.000000:  60%|######    | 3/5 [00:00<00:00,  4.69it/s]\u001b[A\u001b[32m[I 2021-01-16 13:40:13,200]\u001b[0m Trial 62 finished with value: 1.0 and parameters: {'min_child_samples': 5}. Best is trial 60 with value: 1.0.\u001b[0m\n",
            "\n",
            "min_data_in_leaf, val_score: 1.000000:  60%|######    | 3/5 [00:00<00:00,  4.69it/s]\u001b[A\n",
            "min_data_in_leaf, val_score: 1.000000:  60%|######    | 3/5 [00:00<00:00,  4.69it/s]\u001b[A\n",
            "min_data_in_leaf, val_score: 1.000000:  80%|########  | 4/5 [00:00<00:00,  5.32it/s]\u001b[A\u001b[32m[I 2021-01-16 13:40:13,328]\u001b[0m Trial 63 finished with value: 1.0 and parameters: {'min_child_samples': 25}. Best is trial 60 with value: 1.0.\u001b[0m\n",
            "\n",
            "min_data_in_leaf, val_score: 1.000000:  80%|########  | 4/5 [00:00<00:00,  5.32it/s]\u001b[A"
          ],
          "name": "stderr"
        },
        {
          "output_type": "stream",
          "text": [
            "[100]\tvalid_0's auc: 1\tvalid_1's auc: 1\n",
            "Early stopping, best iteration is:\n",
            "[1]\tvalid_0's auc: 1\tvalid_1's auc: 1\n",
            "Training until validation scores don't improve for 100 rounds.\n",
            "[100]\tvalid_0's auc: 1\tvalid_1's auc: 1\n",
            "Early stopping, best iteration is:\n",
            "[1]\tvalid_0's auc: 1\tvalid_1's auc: 1\n",
            "Training until validation scores don't improve for 100 rounds.\n"
          ],
          "name": "stdout"
        },
        {
          "output_type": "stream",
          "text": [
            "\n",
            "min_data_in_leaf, val_score: 1.000000:  80%|########  | 4/5 [00:00<00:00,  5.32it/s]\u001b[A\n",
            "min_data_in_leaf, val_score: 1.000000: 100%|##########| 5/5 [00:00<00:00,  6.18it/s]\u001b[A\u001b[32m[I 2021-01-16 13:40:13,431]\u001b[0m Trial 64 finished with value: 1.0 and parameters: {'min_child_samples': 50}. Best is trial 60 with value: 1.0.\u001b[0m\n",
            "min_data_in_leaf, val_score: 1.000000: 100%|##########| 5/5 [00:00<00:00,  5.66it/s]"
          ],
          "name": "stderr"
        },
        {
          "output_type": "stream",
          "text": [
            "[100]\tvalid_0's auc: 1\tvalid_1's auc: 1\n",
            "Early stopping, best iteration is:\n",
            "[1]\tvalid_0's auc: 1\tvalid_1's auc: 1\n",
            "Best params: {'metric': 'auc', 'verbosity': -1, 'boosting_type': 'gbdt', 'feature_pre_filter': False, 'lambda_l1': 0.0, 'lambda_l2': 0.0, 'num_leaves': 31, 'feature_fraction': 0.4, 'bagging_fraction': 1.0, 'bagging_freq': 0, 'min_child_samples': 20}\n",
            "  Accuracy = 0.36\n",
            "  Params: \n",
            "    metric: auc\n",
            "    verbosity: -1\n",
            "    boosting_type: gbdt\n",
            "    feature_pre_filter: False\n",
            "    lambda_l1: 0.0\n",
            "    lambda_l2: 0.0\n",
            "    num_leaves: 31\n",
            "    feature_fraction: 0.4\n",
            "    bagging_fraction: 1.0\n",
            "    bagging_freq: 0\n",
            "    min_child_samples: 20\n"
          ],
          "name": "stdout"
        },
        {
          "output_type": "stream",
          "text": [
            "\n"
          ],
          "name": "stderr"
        }
      ]
    },
    {
      "cell_type": "code",
      "metadata": {
        "id": "ERI5bc9ViUVf"
      },
      "source": [
        "params = {\n",
        "    'verbosity': -1,\n",
        "    'boosting_type': 'gbdt',\n",
        "    'feature_pre_filter': False,\n",
        "    'lambda_l1': 0.0,\n",
        "    'lambda_l2': 0.0,\n",
        "    'num_leaves': 31,\n",
        "    'feature_fraction': 0.4,\n",
        "    'bagging_fraction': 1.0,\n",
        "    'bagging_freq': 0,\n",
        "    'min_child_samples': 20}"
      ],
      "execution_count": null,
      "outputs": []
    },
    {
      "cell_type": "code",
      "metadata": {
        "id": "boEv5rTIj1Sz"
      },
      "source": [
        "from lightgbm import LGBMClassifier\n",
        "model = LGBMClassifier(**params)"
      ],
      "execution_count": null,
      "outputs": []
    },
    {
      "cell_type": "code",
      "metadata": {
        "colab": {
          "base_uri": "https://localhost:8080/"
        },
        "id": "9gQ0jfJBkCDZ",
        "outputId": "84c2e7cd-0154-453d-b1e0-f5d9a22098ab"
      },
      "source": [
        "model.fit(X_train,y_train)"
      ],
      "execution_count": null,
      "outputs": [
        {
          "output_type": "execute_result",
          "data": {
            "text/plain": [
              "LGBMClassifier(bagging_fraction=1.0, bagging_freq=0, boosting_type='gbdt',\n",
              "               class_weight=None, colsample_bytree=1.0, feature_fraction=0.4,\n",
              "               feature_pre_filter=False, importance_type='split', lambda_l1=0.0,\n",
              "               lambda_l2=0.0, learning_rate=0.1, max_depth=-1,\n",
              "               min_child_samples=20, min_child_weight=0.001, min_split_gain=0.0,\n",
              "               n_estimators=100, n_jobs=-1, num_leaves=31, objective=None,\n",
              "               random_state=None, reg_alpha=0.0, reg_lambda=0.0, silent=True,\n",
              "               subsample=1.0, subsample_for_bin=200000, subsample_freq=0,\n",
              "               verbosity=-1)"
            ]
          },
          "metadata": {
            "tags": []
          },
          "execution_count": 19
        }
      ]
    },
    {
      "cell_type": "code",
      "metadata": {
        "colab": {
          "base_uri": "https://localhost:8080/"
        },
        "id": "_e-BnCwUkP8J",
        "outputId": "52326e0c-d319-42fc-a32f-d94082fc8704"
      },
      "source": [
        "preds_val = model.predict(X_test)\n",
        "from sklearn.metrics import accuracy_score\n",
        "print(accuracy_score(y_test,preds_val))"
      ],
      "execution_count": null,
      "outputs": [
        {
          "output_type": "stream",
          "text": [
            "1.0\n"
          ],
          "name": "stdout"
        }
      ]
    },
    {
      "cell_type": "code",
      "metadata": {
        "colab": {
          "base_uri": "https://localhost:8080/"
        },
        "id": "GiSiBrpEkfmM",
        "outputId": "8e92c19e-17da-4464-85b6-9fd9cb3865a7"
      },
      "source": [
        "final_preds = model.predict(test.drop(columns=['label'],axis=1))\n",
        "final_preds"
      ],
      "execution_count": null,
      "outputs": [
        {
          "output_type": "execute_result",
          "data": {
            "text/plain": [
              "array([0, 2, 2, 0, 0, 2, 2, 0, 2, 1, 2, 2, 0, 1, 1, 0, 2, 0, 2, 2, 1, 0,\n",
              "       0, 1, 0, 0, 2, 1, 2, 0, 2, 0, 1, 0, 1, 2, 1, 2, 1, 0, 1, 0, 0, 0,\n",
              "       2, 1, 2, 2, 0, 2, 0, 1, 0, 0, 0, 2, 2, 0, 0, 1, 2, 0, 1, 2, 0, 2,\n",
              "       2, 1, 1, 2, 1, 2, 1, 1, 2, 1, 2, 1, 0, 2, 0, 2, 0, 2, 2, 2, 1, 1,\n",
              "       0, 0, 1, 1, 0, 2, 1, 1, 1, 0, 1, 2, 1, 0, 0, 1, 2, 0, 0, 1, 0, 2])"
            ]
          },
          "metadata": {
            "tags": []
          },
          "execution_count": 22
        }
      ]
    },
    {
      "cell_type": "code",
      "metadata": {
        "id": "XPn-kt60k_TT"
      },
      "source": [
        "rev = {0:'Neutral',1:'Negative',2:'Positive'}\n"
      ],
      "execution_count": null,
      "outputs": []
    },
    {
      "cell_type": "code",
      "metadata": {
        "id": "MmaE3b1qknY_"
      },
      "source": [
        "sub = pd.DataFrame()\n",
        "sub['Filename'] = test.fname\n",
        "sub['Filename'] = sub['Filename'].apply(lambda x: str(x)+'.wav')\n",
        "sub['Class'] = final_preds\n",
        "sub['Class'] = sub['Class'].apply(lambda x:rev[x])"
      ],
      "execution_count": null,
      "outputs": []
    },
    {
      "cell_type": "code",
      "metadata": {
        "colab": {
          "base_uri": "https://localhost:8080/",
          "height": 195
        },
        "id": "TVtYzAdgk1vd",
        "outputId": "c68cf1b8-1c0b-4a2d-aec6-ccf0728cc36a"
      },
      "source": [
        "sub.head()"
      ],
      "execution_count": null,
      "outputs": [
        {
          "output_type": "execute_result",
          "data": {
            "text/html": [
              "<div>\n",
              "<style scoped>\n",
              "    .dataframe tbody tr th:only-of-type {\n",
              "        vertical-align: middle;\n",
              "    }\n",
              "\n",
              "    .dataframe tbody tr th {\n",
              "        vertical-align: top;\n",
              "    }\n",
              "\n",
              "    .dataframe thead th {\n",
              "        text-align: right;\n",
              "    }\n",
              "</style>\n",
              "<table border=\"1\" class=\"dataframe\">\n",
              "  <thead>\n",
              "    <tr style=\"text-align: right;\">\n",
              "      <th></th>\n",
              "      <th>Filename</th>\n",
              "      <th>Class</th>\n",
              "    </tr>\n",
              "  </thead>\n",
              "  <tbody>\n",
              "    <tr>\n",
              "      <th>0</th>\n",
              "      <td>157.wav</td>\n",
              "      <td>Neutral</td>\n",
              "    </tr>\n",
              "    <tr>\n",
              "      <th>1</th>\n",
              "      <td>26.wav</td>\n",
              "      <td>Positive</td>\n",
              "    </tr>\n",
              "    <tr>\n",
              "      <th>2</th>\n",
              "      <td>75.wav</td>\n",
              "      <td>Positive</td>\n",
              "    </tr>\n",
              "    <tr>\n",
              "      <th>3</th>\n",
              "      <td>185.wav</td>\n",
              "      <td>Neutral</td>\n",
              "    </tr>\n",
              "    <tr>\n",
              "      <th>4</th>\n",
              "      <td>136.wav</td>\n",
              "      <td>Neutral</td>\n",
              "    </tr>\n",
              "  </tbody>\n",
              "</table>\n",
              "</div>"
            ],
            "text/plain": [
              "  Filename     Class\n",
              "0  157.wav   Neutral\n",
              "1   26.wav  Positive\n",
              "2   75.wav  Positive\n",
              "3  185.wav   Neutral\n",
              "4  136.wav   Neutral"
            ]
          },
          "metadata": {
            "tags": []
          },
          "execution_count": 29
        }
      ]
    },
    {
      "cell_type": "code",
      "metadata": {
        "id": "XENETx4WlAl5"
      },
      "source": [
        "sub = sub.sort_values(by='Filename')\n",
        "sub.to_csv('final_submission.csv',index=False)"
      ],
      "execution_count": null,
      "outputs": []
    },
    {
      "cell_type": "code",
      "metadata": {
        "id": "1W0u5ipblGqn"
      },
      "source": [
        ""
      ],
      "execution_count": null,
      "outputs": []
    }
  ]
}